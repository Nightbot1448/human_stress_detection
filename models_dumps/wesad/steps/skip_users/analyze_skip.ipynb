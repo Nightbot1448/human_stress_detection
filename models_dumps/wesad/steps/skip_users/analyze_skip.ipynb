{
 "cells": [
  {
   "cell_type": "code",
   "execution_count": 1,
   "metadata": {
    "collapsed": true
   },
   "outputs": [],
   "source": [
    "import pandas as pd\n",
    "\n",
    "from pathlib import Path\n",
    "from itertools import chain\n",
    "\n",
    "from tensorboard.backend.event_processing.event_accumulator import (\n",
    "    EventAccumulator,\n",
    ")"
   ]
  },
  {
   "cell_type": "code",
   "execution_count": 2,
   "outputs": [],
   "source": [
    "def get_results(path):\n",
    "    \"\"\"\n",
    "    Индексы и значения лучших и худших точностей всех\n",
    "    пользователей(кроме пропущенного) и пропущенного.\n",
    "    \"\"\"\n",
    "    results_05 = {}\n",
    "    for subj_log in (path / \"logs\").iterdir():\n",
    "        subj_id = int(subj_log.stem.split(\"_\")[1])\n",
    "        with open(subj_log) as f:\n",
    "            values_str = map(\n",
    "                lambda x: str.strip(x).split(\"(\")[-1][:-1].split(\"), \"),\n",
    "                f.readlines()[-4:],\n",
    "            )\n",
    "            values = map(lambda x: (float(x[0]), int(x[1])), values_str)\n",
    "            results_05[subj_id] = dict(\n",
    "                zip(\n",
    "                    [\n",
    "                        \"worst_common_rate\",\n",
    "                        \"worst_common_step\",\n",
    "                        \"best_common_rate\",\n",
    "                        \"best_common_step\",\n",
    "                        \"worst_single_rate\",\n",
    "                        \"worst_single_step\",\n",
    "                        \"best_single_rate\",\n",
    "                        \"best_single_step\",\n",
    "                    ],\n",
    "                    chain.from_iterable(values),\n",
    "                )\n",
    "            )\n",
    "    return pd.DataFrame(results_05).transpose().convert_dtypes().sort_index()"
   ],
   "metadata": {
    "collapsed": false
   }
  },
  {
   "cell_type": "code",
   "execution_count": 3,
   "outputs": [],
   "source": [
    "def extend_results(df, path):\n",
    "    \"\"\"\n",
    "    Индексы и значения лучших и худших точностей всех\n",
    "    пользователей(кроме пропущенного) и пропущенного.\n",
    "    \"\"\"\n",
    "    add = {}\n",
    "    dirs_with_data = filter(lambda x: x.stem != \"logs\", path.iterdir())\n",
    "    for path in dirs_with_data:\n",
    "        logdir = path / \"hist\"\n",
    "        subj = int(path.stem.split(\"_\", 3)[2])\n",
    "        event_file = next(filter(Path.is_file, logdir.iterdir()))\n",
    "\n",
    "        epoches = df.loc[subj][\n",
    "            [\n",
    "                \"best_common_step\",\n",
    "                \"worst_common_step\",\n",
    "                \"best_single_step\",\n",
    "                \"worst_single_step\",\n",
    "            ]\n",
    "        ].astype(int)\n",
    "\n",
    "        event_acc = EventAccumulator(str(event_file))\n",
    "        event_acc.Reload()\n",
    "        common = list(\n",
    "            filter(\n",
    "                lambda x: (\n",
    "                    x.step == epoches.best_single_step\n",
    "                    or x.step == epoches.worst_single_step\n",
    "                ),\n",
    "                event_acc.Scalars(\"Accuracy/train\"),\n",
    "            )\n",
    "        )\n",
    "        common_with_best_single, common_with_worst_single = (\n",
    "            common\n",
    "            if common[0].step == epoches.best_single_step\n",
    "            else reversed(common)\n",
    "        )\n",
    "        single = list(\n",
    "            filter(\n",
    "                lambda x: (\n",
    "                    x.step == epoches.best_common_step\n",
    "                    or x.step == epoches.worst_common_step\n",
    "                ),\n",
    "                event_acc.Scalars(f\"Accuracy/test_{subj}\"),\n",
    "            )\n",
    "        )\n",
    "        single_with_best_common, single_with_worst_common = (\n",
    "            single\n",
    "            if single[0].step == epoches.best_common_step\n",
    "            else reversed(single)\n",
    "        )\n",
    "        add[subj] = {\n",
    "            \"common_with_best_single\": common_with_best_single.value,\n",
    "            \"common_with_worst_single\": common_with_worst_single.value,\n",
    "            \"single_with_best_common\": single_with_best_common.value,\n",
    "            \"single_with_worst_common\": single_with_worst_common.value,\n",
    "        }\n",
    "    df = df.merge(\n",
    "        pd.DataFrame(add).transpose().sort_index(),\n",
    "        left_index=True,\n",
    "        right_index=True,\n",
    "    ).round(4)\n",
    "    return df[\n",
    "        [\n",
    "            \"worst_common_step\",\n",
    "            \"worst_common_rate\",\n",
    "            \"single_with_worst_common\",\n",
    "            \"best_common_step\",\n",
    "            \"best_common_rate\",\n",
    "            \"single_with_best_common\",\n",
    "            \"worst_single_step\",\n",
    "            \"worst_single_rate\",\n",
    "            \"common_with_worst_single\",\n",
    "            \"best_single_step\",\n",
    "            \"best_single_rate\",\n",
    "            \"common_with_best_single\",\n",
    "        ]\n",
    "    ]"
   ],
   "metadata": {
    "collapsed": false
   }
  },
  {
   "cell_type": "code",
   "execution_count": 4,
   "outputs": [],
   "source": [
    "path_05 = Path(\"NetUpDownCoder3_3_ASGD_lr_1e-05\")\n",
    "df_05 = extend_results(get_results(path_05), path_05)"
   ],
   "metadata": {
    "collapsed": false
   }
  },
  {
   "cell_type": "code",
   "execution_count": 5,
   "outputs": [
    {
     "data": {
      "text/plain": "    worst_common_step  worst_common_rate  single_with_worst_common  \\\n2                   4             0.7358                    0.6880   \n3                   6              0.797                    0.9946   \n4                   2             0.6151                    0.9121   \n5                   1             0.6637                    1.0000   \n6                   6             0.7049                    0.9070   \n7                   3             0.7582                    0.8493   \n8                   9             0.6544                    0.5858   \n9                  32             0.7597                    0.7081   \n10                  2             0.7276                    0.3961   \n11                 14             0.6624                    0.8810   \n13                  1             0.7915                    0.4323   \n14                  2             0.7819                    0.9822   \n15                  8             0.7393                    0.6297   \n16                  5             0.7101                    0.9775   \n17                 12             0.4955                    0.5155   \n\n    best_common_step  best_common_rate  single_with_best_common  \\\n2                 56            0.9073                   0.6735   \n3                 73            0.9063                   0.8828   \n4                 51            0.8919                   0.8501   \n5                 32             0.915                   0.6250   \n6                 37            0.8927                   0.9093   \n7                 75               0.9                   0.8242   \n8                 84            0.9003                   0.9313   \n9                 38            0.9154                   0.7712   \n10                66            0.8972                   0.4573   \n11                43            0.8913                   0.9876   \n13                74            0.8957                   0.8928   \n14                41            0.8822                   0.9982   \n15                94            0.9028                   0.7525   \n16                80            0.8834                   0.9869   \n17                90            0.8935                   0.9128   \n\n    worst_single_step  worst_single_rate  common_with_worst_single  \\\n2                  79             0.4373                    0.8396   \n3                  13             0.7302                    0.8399   \n4                   1             0.6176                    0.7957   \n5                  13             0.5671                    0.8173   \n6                   9             0.6465                    0.7630   \n7                  48               0.79                    0.8784   \n8                   9             0.5858                    0.6544   \n9                  19             0.5643                    0.8585   \n10                  1             0.3961                    0.8281   \n11                 31             0.8082                    0.7567   \n13                  1             0.4323                    0.7915   \n14                 97             0.9376                    0.8571   \n15                 21             0.5465                    0.7702   \n16                 16             0.9362                    0.7926   \n17                 12             0.5155                    0.4955   \n\n    best_single_step  best_single_rate  common_with_best_single  \n2                 27            0.7726                   0.8675  \n3                  6            0.9946                   0.7970  \n4                  5            0.9147                   0.7195  \n5                  1               1.0                   0.6637  \n6                 59            0.9605                   0.8800  \n7                  4            0.9429                   0.8642  \n8                 39             0.985                   0.8621  \n9                 43            0.8257                   0.8907  \n10                19            0.8422                   0.8457  \n11                 2               1.0                   0.7399  \n13                48            0.9543                   0.8752  \n14                 1               1.0                   0.8017  \n15                35            0.8713                   0.8832  \n16                 0               1.0                   0.8213  \n17                22            0.9826                   0.8489  ",
      "text/html": "<div>\n<style scoped>\n    .dataframe tbody tr th:only-of-type {\n        vertical-align: middle;\n    }\n\n    .dataframe tbody tr th {\n        vertical-align: top;\n    }\n\n    .dataframe thead th {\n        text-align: right;\n    }\n</style>\n<table border=\"1\" class=\"dataframe\">\n  <thead>\n    <tr style=\"text-align: right;\">\n      <th></th>\n      <th>worst_common_step</th>\n      <th>worst_common_rate</th>\n      <th>single_with_worst_common</th>\n      <th>best_common_step</th>\n      <th>best_common_rate</th>\n      <th>single_with_best_common</th>\n      <th>worst_single_step</th>\n      <th>worst_single_rate</th>\n      <th>common_with_worst_single</th>\n      <th>best_single_step</th>\n      <th>best_single_rate</th>\n      <th>common_with_best_single</th>\n    </tr>\n  </thead>\n  <tbody>\n    <tr>\n      <th>2</th>\n      <td>4</td>\n      <td>0.7358</td>\n      <td>0.6880</td>\n      <td>56</td>\n      <td>0.9073</td>\n      <td>0.6735</td>\n      <td>79</td>\n      <td>0.4373</td>\n      <td>0.8396</td>\n      <td>27</td>\n      <td>0.7726</td>\n      <td>0.8675</td>\n    </tr>\n    <tr>\n      <th>3</th>\n      <td>6</td>\n      <td>0.797</td>\n      <td>0.9946</td>\n      <td>73</td>\n      <td>0.9063</td>\n      <td>0.8828</td>\n      <td>13</td>\n      <td>0.7302</td>\n      <td>0.8399</td>\n      <td>6</td>\n      <td>0.9946</td>\n      <td>0.7970</td>\n    </tr>\n    <tr>\n      <th>4</th>\n      <td>2</td>\n      <td>0.6151</td>\n      <td>0.9121</td>\n      <td>51</td>\n      <td>0.8919</td>\n      <td>0.8501</td>\n      <td>1</td>\n      <td>0.6176</td>\n      <td>0.7957</td>\n      <td>5</td>\n      <td>0.9147</td>\n      <td>0.7195</td>\n    </tr>\n    <tr>\n      <th>5</th>\n      <td>1</td>\n      <td>0.6637</td>\n      <td>1.0000</td>\n      <td>32</td>\n      <td>0.915</td>\n      <td>0.6250</td>\n      <td>13</td>\n      <td>0.5671</td>\n      <td>0.8173</td>\n      <td>1</td>\n      <td>1.0</td>\n      <td>0.6637</td>\n    </tr>\n    <tr>\n      <th>6</th>\n      <td>6</td>\n      <td>0.7049</td>\n      <td>0.9070</td>\n      <td>37</td>\n      <td>0.8927</td>\n      <td>0.9093</td>\n      <td>9</td>\n      <td>0.6465</td>\n      <td>0.7630</td>\n      <td>59</td>\n      <td>0.9605</td>\n      <td>0.8800</td>\n    </tr>\n    <tr>\n      <th>7</th>\n      <td>3</td>\n      <td>0.7582</td>\n      <td>0.8493</td>\n      <td>75</td>\n      <td>0.9</td>\n      <td>0.8242</td>\n      <td>48</td>\n      <td>0.79</td>\n      <td>0.8784</td>\n      <td>4</td>\n      <td>0.9429</td>\n      <td>0.8642</td>\n    </tr>\n    <tr>\n      <th>8</th>\n      <td>9</td>\n      <td>0.6544</td>\n      <td>0.5858</td>\n      <td>84</td>\n      <td>0.9003</td>\n      <td>0.9313</td>\n      <td>9</td>\n      <td>0.5858</td>\n      <td>0.6544</td>\n      <td>39</td>\n      <td>0.985</td>\n      <td>0.8621</td>\n    </tr>\n    <tr>\n      <th>9</th>\n      <td>32</td>\n      <td>0.7597</td>\n      <td>0.7081</td>\n      <td>38</td>\n      <td>0.9154</td>\n      <td>0.7712</td>\n      <td>19</td>\n      <td>0.5643</td>\n      <td>0.8585</td>\n      <td>43</td>\n      <td>0.8257</td>\n      <td>0.8907</td>\n    </tr>\n    <tr>\n      <th>10</th>\n      <td>2</td>\n      <td>0.7276</td>\n      <td>0.3961</td>\n      <td>66</td>\n      <td>0.8972</td>\n      <td>0.4573</td>\n      <td>1</td>\n      <td>0.3961</td>\n      <td>0.8281</td>\n      <td>19</td>\n      <td>0.8422</td>\n      <td>0.8457</td>\n    </tr>\n    <tr>\n      <th>11</th>\n      <td>14</td>\n      <td>0.6624</td>\n      <td>0.8810</td>\n      <td>43</td>\n      <td>0.8913</td>\n      <td>0.9876</td>\n      <td>31</td>\n      <td>0.8082</td>\n      <td>0.7567</td>\n      <td>2</td>\n      <td>1.0</td>\n      <td>0.7399</td>\n    </tr>\n    <tr>\n      <th>13</th>\n      <td>1</td>\n      <td>0.7915</td>\n      <td>0.4323</td>\n      <td>74</td>\n      <td>0.8957</td>\n      <td>0.8928</td>\n      <td>1</td>\n      <td>0.4323</td>\n      <td>0.7915</td>\n      <td>48</td>\n      <td>0.9543</td>\n      <td>0.8752</td>\n    </tr>\n    <tr>\n      <th>14</th>\n      <td>2</td>\n      <td>0.7819</td>\n      <td>0.9822</td>\n      <td>41</td>\n      <td>0.8822</td>\n      <td>0.9982</td>\n      <td>97</td>\n      <td>0.9376</td>\n      <td>0.8571</td>\n      <td>1</td>\n      <td>1.0</td>\n      <td>0.8017</td>\n    </tr>\n    <tr>\n      <th>15</th>\n      <td>8</td>\n      <td>0.7393</td>\n      <td>0.6297</td>\n      <td>94</td>\n      <td>0.9028</td>\n      <td>0.7525</td>\n      <td>21</td>\n      <td>0.5465</td>\n      <td>0.7702</td>\n      <td>35</td>\n      <td>0.8713</td>\n      <td>0.8832</td>\n    </tr>\n    <tr>\n      <th>16</th>\n      <td>5</td>\n      <td>0.7101</td>\n      <td>0.9775</td>\n      <td>80</td>\n      <td>0.8834</td>\n      <td>0.9869</td>\n      <td>16</td>\n      <td>0.9362</td>\n      <td>0.7926</td>\n      <td>0</td>\n      <td>1.0</td>\n      <td>0.8213</td>\n    </tr>\n    <tr>\n      <th>17</th>\n      <td>12</td>\n      <td>0.4955</td>\n      <td>0.5155</td>\n      <td>90</td>\n      <td>0.8935</td>\n      <td>0.9128</td>\n      <td>12</td>\n      <td>0.5155</td>\n      <td>0.4955</td>\n      <td>22</td>\n      <td>0.9826</td>\n      <td>0.8489</td>\n    </tr>\n  </tbody>\n</table>\n</div>"
     },
     "execution_count": 5,
     "metadata": {},
     "output_type": "execute_result"
    }
   ],
   "source": [
    "df_05"
   ],
   "metadata": {
    "collapsed": false
   }
  },
  {
   "cell_type": "code",
   "execution_count": 6,
   "outputs": [],
   "source": [
    "path_06 = Path(\"NetUpDownCoder3_3_ASGD_lr_1e-06\")\n",
    "df_06 = extend_results(get_results(path_06), path_06)"
   ],
   "metadata": {
    "collapsed": false
   }
  },
  {
   "cell_type": "code",
   "execution_count": 7,
   "outputs": [
    {
     "data": {
      "text/plain": "    worst_common_step  worst_common_rate  single_with_worst_common  \\\n2                  37             0.7307                    0.3848   \n3                   6             0.7638                    1.0000   \n4                  11             0.6906                    0.8941   \n5                   4             0.7845                    0.7616   \n6                   6             0.6632                    0.8744   \n7                   4             0.7649                    0.8744   \n8                   0              0.551                    0.5365   \n9                   2             0.7829                    0.6797   \n10                  2             0.6708                    0.3961   \n11                  6              0.743                    1.0000   \n13                  0             0.7938                    0.7821   \n14                  3             0.6527                    0.8913   \n15                 13             0.7717                    0.6495   \n16                  0             0.6064                    0.8687   \n17                  5              0.568                    0.5562   \n\n    best_common_step  best_common_rate  single_with_best_common  \\\n2                 39            0.9183                   0.6676   \n3                 36            0.9041                   0.9019   \n4                 21            0.8823                   0.8501   \n5                 19             0.915                   0.6134   \n6                 45            0.8942                   0.9349   \n7                 31            0.8836                   0.8836   \n8                 29            0.8831                   0.9335   \n9                 34            0.9019                   0.7996   \n10                21            0.9033                   0.4654   \n11                45            0.8882                   0.9947   \n13                42            0.8927                   0.7557   \n14                44            0.8815                   0.9947   \n15                12            0.8953                   0.8554   \n16                49            0.8804                   0.9981   \n17                25            0.8844                   0.9651   \n\n    worst_single_step  worst_single_rate  common_with_worst_single  \\\n2                  37             0.3848                    0.7307   \n3                   2             0.6649                    0.7793   \n4                   8             0.6434                    0.7609   \n5                   6             0.5671                    0.8233   \n6                   3             0.6442                    0.7899   \n7                  23               0.79                    0.8269   \n8                   0             0.5365                    0.5510   \n9                   7             0.6449                    0.8653   \n10                  2             0.3961                    0.6708   \n11                  7             0.8668                    0.7513   \n13                  4             0.6046                    0.8052   \n14                  3             0.8913                    0.6527   \n15                  2             0.6337                    0.7845   \n16                 24             0.8143                    0.7949   \n17                  5             0.5562                    0.5680   \n\n    best_single_step  best_single_rate  common_with_best_single  \n2                 28            0.7638                   0.8904  \n3                  6               1.0                   0.7638  \n4                  5            0.9225                   0.7039  \n5                  4            0.7616                   0.7845  \n6                 41            0.9558                   0.8614  \n7                 30            0.9498                   0.8649  \n8                 34            0.9721                   0.8336  \n9                 40            0.8105                   0.8877  \n10                 9             0.847                   0.8411  \n11                 1               1.0                   0.8297  \n13                34            0.9631                   0.8569  \n14                 2               1.0                   0.8245  \n15                27            0.8812                   0.8862  \n16                 1               1.0                   0.8145  \n17                14            0.9845                   0.8376  ",
      "text/html": "<div>\n<style scoped>\n    .dataframe tbody tr th:only-of-type {\n        vertical-align: middle;\n    }\n\n    .dataframe tbody tr th {\n        vertical-align: top;\n    }\n\n    .dataframe thead th {\n        text-align: right;\n    }\n</style>\n<table border=\"1\" class=\"dataframe\">\n  <thead>\n    <tr style=\"text-align: right;\">\n      <th></th>\n      <th>worst_common_step</th>\n      <th>worst_common_rate</th>\n      <th>single_with_worst_common</th>\n      <th>best_common_step</th>\n      <th>best_common_rate</th>\n      <th>single_with_best_common</th>\n      <th>worst_single_step</th>\n      <th>worst_single_rate</th>\n      <th>common_with_worst_single</th>\n      <th>best_single_step</th>\n      <th>best_single_rate</th>\n      <th>common_with_best_single</th>\n    </tr>\n  </thead>\n  <tbody>\n    <tr>\n      <th>2</th>\n      <td>37</td>\n      <td>0.7307</td>\n      <td>0.3848</td>\n      <td>39</td>\n      <td>0.9183</td>\n      <td>0.6676</td>\n      <td>37</td>\n      <td>0.3848</td>\n      <td>0.7307</td>\n      <td>28</td>\n      <td>0.7638</td>\n      <td>0.8904</td>\n    </tr>\n    <tr>\n      <th>3</th>\n      <td>6</td>\n      <td>0.7638</td>\n      <td>1.0000</td>\n      <td>36</td>\n      <td>0.9041</td>\n      <td>0.9019</td>\n      <td>2</td>\n      <td>0.6649</td>\n      <td>0.7793</td>\n      <td>6</td>\n      <td>1.0</td>\n      <td>0.7638</td>\n    </tr>\n    <tr>\n      <th>4</th>\n      <td>11</td>\n      <td>0.6906</td>\n      <td>0.8941</td>\n      <td>21</td>\n      <td>0.8823</td>\n      <td>0.8501</td>\n      <td>8</td>\n      <td>0.6434</td>\n      <td>0.7609</td>\n      <td>5</td>\n      <td>0.9225</td>\n      <td>0.7039</td>\n    </tr>\n    <tr>\n      <th>5</th>\n      <td>4</td>\n      <td>0.7845</td>\n      <td>0.7616</td>\n      <td>19</td>\n      <td>0.915</td>\n      <td>0.6134</td>\n      <td>6</td>\n      <td>0.5671</td>\n      <td>0.8233</td>\n      <td>4</td>\n      <td>0.7616</td>\n      <td>0.7845</td>\n    </tr>\n    <tr>\n      <th>6</th>\n      <td>6</td>\n      <td>0.6632</td>\n      <td>0.8744</td>\n      <td>45</td>\n      <td>0.8942</td>\n      <td>0.9349</td>\n      <td>3</td>\n      <td>0.6442</td>\n      <td>0.7899</td>\n      <td>41</td>\n      <td>0.9558</td>\n      <td>0.8614</td>\n    </tr>\n    <tr>\n      <th>7</th>\n      <td>4</td>\n      <td>0.7649</td>\n      <td>0.8744</td>\n      <td>31</td>\n      <td>0.8836</td>\n      <td>0.8836</td>\n      <td>23</td>\n      <td>0.79</td>\n      <td>0.8269</td>\n      <td>30</td>\n      <td>0.9498</td>\n      <td>0.8649</td>\n    </tr>\n    <tr>\n      <th>8</th>\n      <td>0</td>\n      <td>0.551</td>\n      <td>0.5365</td>\n      <td>29</td>\n      <td>0.8831</td>\n      <td>0.9335</td>\n      <td>0</td>\n      <td>0.5365</td>\n      <td>0.5510</td>\n      <td>34</td>\n      <td>0.9721</td>\n      <td>0.8336</td>\n    </tr>\n    <tr>\n      <th>9</th>\n      <td>2</td>\n      <td>0.7829</td>\n      <td>0.6797</td>\n      <td>34</td>\n      <td>0.9019</td>\n      <td>0.7996</td>\n      <td>7</td>\n      <td>0.6449</td>\n      <td>0.8653</td>\n      <td>40</td>\n      <td>0.8105</td>\n      <td>0.8877</td>\n    </tr>\n    <tr>\n      <th>10</th>\n      <td>2</td>\n      <td>0.6708</td>\n      <td>0.3961</td>\n      <td>21</td>\n      <td>0.9033</td>\n      <td>0.4654</td>\n      <td>2</td>\n      <td>0.3961</td>\n      <td>0.6708</td>\n      <td>9</td>\n      <td>0.847</td>\n      <td>0.8411</td>\n    </tr>\n    <tr>\n      <th>11</th>\n      <td>6</td>\n      <td>0.743</td>\n      <td>1.0000</td>\n      <td>45</td>\n      <td>0.8882</td>\n      <td>0.9947</td>\n      <td>7</td>\n      <td>0.8668</td>\n      <td>0.7513</td>\n      <td>1</td>\n      <td>1.0</td>\n      <td>0.8297</td>\n    </tr>\n    <tr>\n      <th>13</th>\n      <td>0</td>\n      <td>0.7938</td>\n      <td>0.7821</td>\n      <td>42</td>\n      <td>0.8927</td>\n      <td>0.7557</td>\n      <td>4</td>\n      <td>0.6046</td>\n      <td>0.8052</td>\n      <td>34</td>\n      <td>0.9631</td>\n      <td>0.8569</td>\n    </tr>\n    <tr>\n      <th>14</th>\n      <td>3</td>\n      <td>0.6527</td>\n      <td>0.8913</td>\n      <td>44</td>\n      <td>0.8815</td>\n      <td>0.9947</td>\n      <td>3</td>\n      <td>0.8913</td>\n      <td>0.6527</td>\n      <td>2</td>\n      <td>1.0</td>\n      <td>0.8245</td>\n    </tr>\n    <tr>\n      <th>15</th>\n      <td>13</td>\n      <td>0.7717</td>\n      <td>0.6495</td>\n      <td>12</td>\n      <td>0.8953</td>\n      <td>0.8554</td>\n      <td>2</td>\n      <td>0.6337</td>\n      <td>0.7845</td>\n      <td>27</td>\n      <td>0.8812</td>\n      <td>0.8862</td>\n    </tr>\n    <tr>\n      <th>16</th>\n      <td>0</td>\n      <td>0.6064</td>\n      <td>0.8687</td>\n      <td>49</td>\n      <td>0.8804</td>\n      <td>0.9981</td>\n      <td>24</td>\n      <td>0.8143</td>\n      <td>0.7949</td>\n      <td>1</td>\n      <td>1.0</td>\n      <td>0.8145</td>\n    </tr>\n    <tr>\n      <th>17</th>\n      <td>5</td>\n      <td>0.568</td>\n      <td>0.5562</td>\n      <td>25</td>\n      <td>0.8844</td>\n      <td>0.9651</td>\n      <td>5</td>\n      <td>0.5562</td>\n      <td>0.5680</td>\n      <td>14</td>\n      <td>0.9845</td>\n      <td>0.8376</td>\n    </tr>\n  </tbody>\n</table>\n</div>"
     },
     "execution_count": 7,
     "metadata": {},
     "output_type": "execute_result"
    }
   ],
   "source": [
    "df_06"
   ],
   "metadata": {
    "collapsed": false
   }
  },
  {
   "cell_type": "code",
   "execution_count": 7,
   "outputs": [],
   "source": [],
   "metadata": {
    "collapsed": false
   }
  }
 ],
 "metadata": {
  "kernelspec": {
   "display_name": "Python 3",
   "language": "python",
   "name": "python3"
  },
  "language_info": {
   "codemirror_mode": {
    "name": "ipython",
    "version": 2
   },
   "file_extension": ".py",
   "mimetype": "text/x-python",
   "name": "python",
   "nbconvert_exporter": "python",
   "pygments_lexer": "ipython2",
   "version": "2.7.6"
  }
 },
 "nbformat": 4,
 "nbformat_minor": 0
}
