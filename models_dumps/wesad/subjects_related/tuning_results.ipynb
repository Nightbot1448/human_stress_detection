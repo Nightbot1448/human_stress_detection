{
 "cells": [
  {
   "cell_type": "code",
   "execution_count": 1,
   "metadata": {
    "collapsed": true
   },
   "outputs": [],
   "source": [
    "import pandas as pd\n",
    "\n",
    "from pathlib import Path\n",
    "from itertools import chain"
   ]
  },
  {
   "cell_type": "code",
   "execution_count": 2,
   "metadata": {},
   "outputs": [],
   "source": [
    "def get_results(path):\n",
    "    \"\"\"\n",
    "    Индексы и значения лучших и худших точностей всех\n",
    "    пользователей(кроме пропущенного) и пропущенного.\n",
    "    \"\"\"\n",
    "    results = {}\n",
    "    for subj_log in (path / \"logs\").iterdir():\n",
    "        subj_id = int(subj_log.stem.split(\"_\")[1])\n",
    "        with open(subj_log) as f:\n",
    "            lines = f.readlines()\n",
    "            rate_before = float(lines[0].strip().split(\"(\")[1][:-1])\n",
    "            train_values_str = map(\n",
    "                lambda x: str.strip(x).split(\"(\")[-1][:-1].split(\"), \"),\n",
    "                lines[-2:],\n",
    "            )\n",
    "            values = map(lambda x: (float(x[0]), int(x[1])), train_values_str)\n",
    "            results[subj_id] = dict(\n",
    "                zip(\n",
    "                    [\n",
    "                        \"before\",\n",
    "                        \"worst_rate\",\n",
    "                        \"worst_step\",\n",
    "                        \"best_rate\",\n",
    "                        \"best_step\",\n",
    "                    ],\n",
    "                    [rate_before, *chain.from_iterable(values)],\n",
    "                )\n",
    "            )\n",
    "    return pd.DataFrame(results).transpose().convert_dtypes().sort_index()"
   ]
  },
  {
   "cell_type": "code",
   "execution_count": 3,
   "metadata": {},
   "outputs": [],
   "source": [
    "def get_with_delta(path):\n",
    "    df = get_results(path)\n",
    "    s = df.best_rate - df.before\n",
    "    s.name = \"delta_best_before\"\n",
    "    df = df.merge(s, left_index=True, right_index=True)\n",
    "    df = df[\n",
    "        [\n",
    "            \"delta_best_before\",\n",
    "            \"before\",\n",
    "            \"best_rate\",\n",
    "            \"best_step\",\n",
    "            \"worst_rate\",\n",
    "            \"worst_step\",\n",
    "        ]\n",
    "    ]\n",
    "    return df"
   ]
  },
  {
   "cell_type": "code",
   "execution_count": 4,
   "metadata": {},
   "outputs": [],
   "source": [
    "df_max = get_with_delta(Path(\"NetUpDownCoder4Max60_ASGD_lr_1e-06\"))"
   ]
  },
  {
   "cell_type": "code",
   "execution_count": 5,
   "metadata": {},
   "outputs": [],
   "source": [
    "df_avg = get_with_delta(Path(\"NetUpDownCoder4Avg60_ASGD_lr_1e-06\"))"
   ]
  },
  {
   "cell_type": "code",
   "execution_count": 6,
   "metadata": {},
   "outputs": [],
   "source": [
    "df_conv = get_with_delta(Path(\"NetUpDownCoder4Conv60_ASGD_lr_1e-06\"))"
   ]
  },
  {
   "cell_type": "code",
   "execution_count": 7,
   "metadata": {},
   "outputs": [],
   "source": [
    "df_max_der = get_with_delta(\n",
    "    Path(\"derivative\", \"NetUpDownCoder4Max60_ASGD_lr_1e-06\")\n",
    ")"
   ]
  },
  {
   "cell_type": "code",
   "execution_count": 8,
   "metadata": {},
   "outputs": [],
   "source": [
    "df_avg_der = get_with_delta(\n",
    "    Path(\"derivative\", \"NetUpDownCoder4Avg60_ASGD_lr_1e-06\")\n",
    ")"
   ]
  },
  {
   "cell_type": "code",
   "execution_count": 9,
   "metadata": {},
   "outputs": [],
   "source": [
    "df_conv_der = get_with_delta(\n",
    "    Path(\"derivative\", \"NetUpDownCoder4Conv60_ASGD_lr_1e-06\")\n",
    ")"
   ]
  },
  {
   "cell_type": "code",
   "execution_count": 10,
   "metadata": {},
   "outputs": [
    {
     "data": {
      "text/plain": "    avg_der  max_der  conv_der     avg     max    conv     best\n2       1.0   0.9697    0.9545     1.0  0.9848  0.9848  avg_der\n3       1.0      1.0       1.0     1.0     1.0     1.0  avg_der\n4       1.0      1.0       1.0     1.0     1.0   0.973  avg_der\n5       1.0      1.0       1.0     1.0     1.0     1.0  avg_der\n6     0.988    0.988     0.988     1.0     1.0     1.0      avg\n7       1.0      1.0       1.0  0.9881     1.0     1.0  avg_der\n8       1.0      1.0       1.0     1.0     1.0     1.0  avg_der\n9    0.9318   0.8295    0.8295  0.7727  0.8068  0.7841  avg_der\n10   0.9587   0.9504    0.9669     1.0  0.9504     1.0      avg\n11      1.0      1.0       1.0     1.0     1.0     1.0  avg_der\n13      1.0      1.0       1.0     1.0     1.0  0.9909  avg_der\n14      1.0      1.0       1.0     1.0     1.0     1.0  avg_der\n15      1.0      1.0    0.9898  0.9796     1.0  0.9694  avg_der\n16      1.0      1.0       1.0     1.0     1.0     1.0  avg_der\n17      1.0     0.97       1.0    0.98    0.99    0.99  avg_der",
      "text/html": "<div>\n<style scoped>\n    .dataframe tbody tr th:only-of-type {\n        vertical-align: middle;\n    }\n\n    .dataframe tbody tr th {\n        vertical-align: top;\n    }\n\n    .dataframe thead th {\n        text-align: right;\n    }\n</style>\n<table border=\"1\" class=\"dataframe\">\n  <thead>\n    <tr style=\"text-align: right;\">\n      <th></th>\n      <th>avg_der</th>\n      <th>max_der</th>\n      <th>conv_der</th>\n      <th>avg</th>\n      <th>max</th>\n      <th>conv</th>\n      <th>best</th>\n    </tr>\n  </thead>\n  <tbody>\n    <tr>\n      <th>2</th>\n      <td>1.0</td>\n      <td>0.9697</td>\n      <td>0.9545</td>\n      <td>1.0</td>\n      <td>0.9848</td>\n      <td>0.9848</td>\n      <td>avg_der</td>\n    </tr>\n    <tr>\n      <th>3</th>\n      <td>1.0</td>\n      <td>1.0</td>\n      <td>1.0</td>\n      <td>1.0</td>\n      <td>1.0</td>\n      <td>1.0</td>\n      <td>avg_der</td>\n    </tr>\n    <tr>\n      <th>4</th>\n      <td>1.0</td>\n      <td>1.0</td>\n      <td>1.0</td>\n      <td>1.0</td>\n      <td>1.0</td>\n      <td>0.973</td>\n      <td>avg_der</td>\n    </tr>\n    <tr>\n      <th>5</th>\n      <td>1.0</td>\n      <td>1.0</td>\n      <td>1.0</td>\n      <td>1.0</td>\n      <td>1.0</td>\n      <td>1.0</td>\n      <td>avg_der</td>\n    </tr>\n    <tr>\n      <th>6</th>\n      <td>0.988</td>\n      <td>0.988</td>\n      <td>0.988</td>\n      <td>1.0</td>\n      <td>1.0</td>\n      <td>1.0</td>\n      <td>avg</td>\n    </tr>\n    <tr>\n      <th>7</th>\n      <td>1.0</td>\n      <td>1.0</td>\n      <td>1.0</td>\n      <td>0.9881</td>\n      <td>1.0</td>\n      <td>1.0</td>\n      <td>avg_der</td>\n    </tr>\n    <tr>\n      <th>8</th>\n      <td>1.0</td>\n      <td>1.0</td>\n      <td>1.0</td>\n      <td>1.0</td>\n      <td>1.0</td>\n      <td>1.0</td>\n      <td>avg_der</td>\n    </tr>\n    <tr>\n      <th>9</th>\n      <td>0.9318</td>\n      <td>0.8295</td>\n      <td>0.8295</td>\n      <td>0.7727</td>\n      <td>0.8068</td>\n      <td>0.7841</td>\n      <td>avg_der</td>\n    </tr>\n    <tr>\n      <th>10</th>\n      <td>0.9587</td>\n      <td>0.9504</td>\n      <td>0.9669</td>\n      <td>1.0</td>\n      <td>0.9504</td>\n      <td>1.0</td>\n      <td>avg</td>\n    </tr>\n    <tr>\n      <th>11</th>\n      <td>1.0</td>\n      <td>1.0</td>\n      <td>1.0</td>\n      <td>1.0</td>\n      <td>1.0</td>\n      <td>1.0</td>\n      <td>avg_der</td>\n    </tr>\n    <tr>\n      <th>13</th>\n      <td>1.0</td>\n      <td>1.0</td>\n      <td>1.0</td>\n      <td>1.0</td>\n      <td>1.0</td>\n      <td>0.9909</td>\n      <td>avg_der</td>\n    </tr>\n    <tr>\n      <th>14</th>\n      <td>1.0</td>\n      <td>1.0</td>\n      <td>1.0</td>\n      <td>1.0</td>\n      <td>1.0</td>\n      <td>1.0</td>\n      <td>avg_der</td>\n    </tr>\n    <tr>\n      <th>15</th>\n      <td>1.0</td>\n      <td>1.0</td>\n      <td>0.9898</td>\n      <td>0.9796</td>\n      <td>1.0</td>\n      <td>0.9694</td>\n      <td>avg_der</td>\n    </tr>\n    <tr>\n      <th>16</th>\n      <td>1.0</td>\n      <td>1.0</td>\n      <td>1.0</td>\n      <td>1.0</td>\n      <td>1.0</td>\n      <td>1.0</td>\n      <td>avg_der</td>\n    </tr>\n    <tr>\n      <th>17</th>\n      <td>1.0</td>\n      <td>0.97</td>\n      <td>1.0</td>\n      <td>0.98</td>\n      <td>0.99</td>\n      <td>0.99</td>\n      <td>avg_der</td>\n    </tr>\n  </tbody>\n</table>\n</div>"
     },
     "execution_count": 10,
     "metadata": {},
     "output_type": "execute_result"
    }
   ],
   "source": [
    "best_rate_no_skip = pd.concat(\n",
    "    (\n",
    "        df[\"best_rate\"]\n",
    "        for df in (\n",
    "            df_avg_der,\n",
    "            df_max_der,\n",
    "            df_conv_der,\n",
    "            df_avg,\n",
    "            df_max,\n",
    "            df_conv,\n",
    "        )\n",
    "    ),\n",
    "    axis=1,\n",
    ")\n",
    "best_rate_no_skip.columns = [\n",
    "    \"avg_der\",\n",
    "    \"max_der\",\n",
    "    \"conv_der\",\n",
    "    \"avg\",\n",
    "    \"max\",\n",
    "    \"conv\",\n",
    "]\n",
    "no_skip_best_type = best_rate_no_skip.idxmax(\"columns\")\n",
    "no_skip_best_type.name = \"best\"\n",
    "best_rate_no_skip.merge(no_skip_best_type, left_index=True, right_index=True)"
   ]
  },
  {
   "cell_type": "code",
   "execution_count": 11,
   "metadata": {},
   "outputs": [
    {
     "data": {
      "text/plain": "        avg_der   max_der  conv_der       avg       max      conv\ncount      15.0      15.0      15.0      15.0      15.0      15.0\nmean     0.9919  0.980507  0.981913   0.98136  0.982133   0.97948\nstd    0.019851  0.044555  0.044382  0.058194  0.050235  0.055017\nmin      0.9318    0.8295    0.8295    0.7727    0.8068    0.7841\n25%         1.0     0.979    0.9889   0.99405     0.995    0.9874\n50%         1.0       1.0       1.0       1.0       1.0       1.0\n75%         1.0       1.0       1.0       1.0       1.0       1.0\nmax         1.0       1.0       1.0       1.0       1.0       1.0",
      "text/html": "<div>\n<style scoped>\n    .dataframe tbody tr th:only-of-type {\n        vertical-align: middle;\n    }\n\n    .dataframe tbody tr th {\n        vertical-align: top;\n    }\n\n    .dataframe thead th {\n        text-align: right;\n    }\n</style>\n<table border=\"1\" class=\"dataframe\">\n  <thead>\n    <tr style=\"text-align: right;\">\n      <th></th>\n      <th>avg_der</th>\n      <th>max_der</th>\n      <th>conv_der</th>\n      <th>avg</th>\n      <th>max</th>\n      <th>conv</th>\n    </tr>\n  </thead>\n  <tbody>\n    <tr>\n      <th>count</th>\n      <td>15.0</td>\n      <td>15.0</td>\n      <td>15.0</td>\n      <td>15.0</td>\n      <td>15.0</td>\n      <td>15.0</td>\n    </tr>\n    <tr>\n      <th>mean</th>\n      <td>0.9919</td>\n      <td>0.980507</td>\n      <td>0.981913</td>\n      <td>0.98136</td>\n      <td>0.982133</td>\n      <td>0.97948</td>\n    </tr>\n    <tr>\n      <th>std</th>\n      <td>0.019851</td>\n      <td>0.044555</td>\n      <td>0.044382</td>\n      <td>0.058194</td>\n      <td>0.050235</td>\n      <td>0.055017</td>\n    </tr>\n    <tr>\n      <th>min</th>\n      <td>0.9318</td>\n      <td>0.8295</td>\n      <td>0.8295</td>\n      <td>0.7727</td>\n      <td>0.8068</td>\n      <td>0.7841</td>\n    </tr>\n    <tr>\n      <th>25%</th>\n      <td>1.0</td>\n      <td>0.979</td>\n      <td>0.9889</td>\n      <td>0.99405</td>\n      <td>0.995</td>\n      <td>0.9874</td>\n    </tr>\n    <tr>\n      <th>50%</th>\n      <td>1.0</td>\n      <td>1.0</td>\n      <td>1.0</td>\n      <td>1.0</td>\n      <td>1.0</td>\n      <td>1.0</td>\n    </tr>\n    <tr>\n      <th>75%</th>\n      <td>1.0</td>\n      <td>1.0</td>\n      <td>1.0</td>\n      <td>1.0</td>\n      <td>1.0</td>\n      <td>1.0</td>\n    </tr>\n    <tr>\n      <th>max</th>\n      <td>1.0</td>\n      <td>1.0</td>\n      <td>1.0</td>\n      <td>1.0</td>\n      <td>1.0</td>\n      <td>1.0</td>\n    </tr>\n  </tbody>\n</table>\n</div>"
     },
     "execution_count": 11,
     "metadata": {},
     "output_type": "execute_result"
    }
   ],
   "source": [
    "best_rate_no_skip.describe()"
   ]
  },
  {
   "cell_type": "code",
   "execution_count": 12,
   "outputs": [
    {
     "data": {
      "text/plain": "    delta_best_before  before  best_rate  best_step  worst_rate  worst_step\n2              0.1515  0.8485        1.0         13      0.8636          11\n3              0.2143  0.7857        1.0          8         0.8           0\n4                 0.0     1.0        1.0          0         1.0           0\n5              0.4217  0.5783        1.0          0         1.0           0\n6              0.0121  0.9759      0.988          2      0.8193          12\n7                 0.0     1.0        1.0          0      0.9286          27\n8              0.0889  0.9111        1.0         13      0.9889           0\n9               0.125  0.8068     0.9318          2      0.3864          27\n10             0.0827   0.876     0.9587         25      0.6033          12\n11                0.0     1.0        1.0          0         1.0           0\n13             0.0182  0.9818        1.0          0      0.9182           6\n14             0.0367  0.9633        1.0          0         1.0           0\n15             0.0102  0.9898        1.0          0      0.8776          35\n16                0.0     1.0        1.0          0         1.0           0\n17               0.07    0.93        1.0          3        0.94          12",
      "text/html": "<div>\n<style scoped>\n    .dataframe tbody tr th:only-of-type {\n        vertical-align: middle;\n    }\n\n    .dataframe tbody tr th {\n        vertical-align: top;\n    }\n\n    .dataframe thead th {\n        text-align: right;\n    }\n</style>\n<table border=\"1\" class=\"dataframe\">\n  <thead>\n    <tr style=\"text-align: right;\">\n      <th></th>\n      <th>delta_best_before</th>\n      <th>before</th>\n      <th>best_rate</th>\n      <th>best_step</th>\n      <th>worst_rate</th>\n      <th>worst_step</th>\n    </tr>\n  </thead>\n  <tbody>\n    <tr>\n      <th>2</th>\n      <td>0.1515</td>\n      <td>0.8485</td>\n      <td>1.0</td>\n      <td>13</td>\n      <td>0.8636</td>\n      <td>11</td>\n    </tr>\n    <tr>\n      <th>3</th>\n      <td>0.2143</td>\n      <td>0.7857</td>\n      <td>1.0</td>\n      <td>8</td>\n      <td>0.8</td>\n      <td>0</td>\n    </tr>\n    <tr>\n      <th>4</th>\n      <td>0.0</td>\n      <td>1.0</td>\n      <td>1.0</td>\n      <td>0</td>\n      <td>1.0</td>\n      <td>0</td>\n    </tr>\n    <tr>\n      <th>5</th>\n      <td>0.4217</td>\n      <td>0.5783</td>\n      <td>1.0</td>\n      <td>0</td>\n      <td>1.0</td>\n      <td>0</td>\n    </tr>\n    <tr>\n      <th>6</th>\n      <td>0.0121</td>\n      <td>0.9759</td>\n      <td>0.988</td>\n      <td>2</td>\n      <td>0.8193</td>\n      <td>12</td>\n    </tr>\n    <tr>\n      <th>7</th>\n      <td>0.0</td>\n      <td>1.0</td>\n      <td>1.0</td>\n      <td>0</td>\n      <td>0.9286</td>\n      <td>27</td>\n    </tr>\n    <tr>\n      <th>8</th>\n      <td>0.0889</td>\n      <td>0.9111</td>\n      <td>1.0</td>\n      <td>13</td>\n      <td>0.9889</td>\n      <td>0</td>\n    </tr>\n    <tr>\n      <th>9</th>\n      <td>0.125</td>\n      <td>0.8068</td>\n      <td>0.9318</td>\n      <td>2</td>\n      <td>0.3864</td>\n      <td>27</td>\n    </tr>\n    <tr>\n      <th>10</th>\n      <td>0.0827</td>\n      <td>0.876</td>\n      <td>0.9587</td>\n      <td>25</td>\n      <td>0.6033</td>\n      <td>12</td>\n    </tr>\n    <tr>\n      <th>11</th>\n      <td>0.0</td>\n      <td>1.0</td>\n      <td>1.0</td>\n      <td>0</td>\n      <td>1.0</td>\n      <td>0</td>\n    </tr>\n    <tr>\n      <th>13</th>\n      <td>0.0182</td>\n      <td>0.9818</td>\n      <td>1.0</td>\n      <td>0</td>\n      <td>0.9182</td>\n      <td>6</td>\n    </tr>\n    <tr>\n      <th>14</th>\n      <td>0.0367</td>\n      <td>0.9633</td>\n      <td>1.0</td>\n      <td>0</td>\n      <td>1.0</td>\n      <td>0</td>\n    </tr>\n    <tr>\n      <th>15</th>\n      <td>0.0102</td>\n      <td>0.9898</td>\n      <td>1.0</td>\n      <td>0</td>\n      <td>0.8776</td>\n      <td>35</td>\n    </tr>\n    <tr>\n      <th>16</th>\n      <td>0.0</td>\n      <td>1.0</td>\n      <td>1.0</td>\n      <td>0</td>\n      <td>1.0</td>\n      <td>0</td>\n    </tr>\n    <tr>\n      <th>17</th>\n      <td>0.07</td>\n      <td>0.93</td>\n      <td>1.0</td>\n      <td>3</td>\n      <td>0.94</td>\n      <td>12</td>\n    </tr>\n  </tbody>\n</table>\n</div>"
     },
     "execution_count": 12,
     "metadata": {},
     "output_type": "execute_result"
    }
   ],
   "source": [
    "df_avg_der"
   ],
   "metadata": {
    "collapsed": false
   }
  },
  {
   "cell_type": "markdown",
   "metadata": {},
   "source": [
    "# Skip users"
   ]
  },
  {
   "cell_type": "code",
   "execution_count": 5,
   "metadata": {},
   "outputs": [],
   "source": [
    "df_max_skip = get_with_delta(\n",
    "    Path(\"skip_users\", \"NetUpDownCoder4Max60_ASGD_lr_1e-06\")\n",
    ")"
   ]
  },
  {
   "cell_type": "code",
   "execution_count": 6,
   "metadata": {},
   "outputs": [],
   "source": [
    "df_avg_skip = get_with_delta(\n",
    "    Path(\"skip_users\", \"NetUpDownCoder4Avg60_ASGD_lr_1e-06\")\n",
    ")"
   ]
  },
  {
   "cell_type": "code",
   "execution_count": 7,
   "outputs": [],
   "source": [
    "df_conv_skip = get_with_delta(\n",
    "    Path(\"skip_users\", \"NetUpDownCoder4Conv60_ASGD_lr_1e-06\")\n",
    ")"
   ],
   "metadata": {
    "collapsed": false
   }
  },
  {
   "cell_type": "code",
   "execution_count": 8,
   "metadata": {},
   "outputs": [],
   "source": [
    "df_avg_der_skip = get_with_delta(\n",
    "    Path(\"derivative\", \"skip_users\", \"NetUpDownCoder4Avg60_ASGD_lr_1e-06\")\n",
    ")"
   ]
  },
  {
   "cell_type": "code",
   "execution_count": 9,
   "outputs": [],
   "source": [
    "df_max_der_skip = get_with_delta(\n",
    "    Path(\"derivative\", \"skip_users\", \"NetUpDownCoder4Max60_ASGD_lr_1e-06\")\n",
    ")"
   ],
   "metadata": {
    "collapsed": false
   }
  },
  {
   "cell_type": "code",
   "execution_count": 10,
   "outputs": [],
   "source": [
    "df_conv_der_skip = get_with_delta(\n",
    "    Path(\"derivative\", \"skip_users\", \"NetUpDownCoder4Conv60_ASGD_lr_1e-06\")\n",
    ")"
   ],
   "metadata": {
    "collapsed": false
   }
  },
  {
   "cell_type": "code",
   "execution_count": 11,
   "metadata": {},
   "outputs": [
    {
     "data": {
      "text/plain": "    avg_der  max_der  conv_der     avg     max    conv      best\n2    0.9545   0.9545       1.0  0.9545  0.9848     1.0  conv_der\n3       1.0      1.0       1.0     1.0     1.0     1.0   avg_der\n4       1.0   0.9865       1.0     1.0     1.0     1.0   avg_der\n5       1.0      1.0       1.0     1.0     1.0     1.0   avg_der\n6       1.0   0.9518       1.0   0.988   0.988     1.0   avg_der\n7       1.0      1.0       1.0     1.0     1.0  0.9881   avg_der\n8       1.0      1.0       1.0     1.0     1.0     1.0   avg_der\n9    0.9091   0.8977    0.7614  0.8409  0.8295  0.8523   avg_der\n10   0.9669   0.9256    0.9669  0.9835  0.9421     1.0      conv\n11      1.0      1.0       1.0     1.0     1.0     1.0   avg_der\n13      1.0   0.9909       1.0     1.0     1.0     1.0   avg_der\n14      1.0      1.0       1.0     1.0     1.0     1.0   avg_der\n15      1.0      1.0       1.0     1.0     1.0  0.9796   avg_der\n16      1.0      1.0       1.0     1.0     1.0     1.0   avg_der\n17      1.0      1.0      0.99     1.0    0.98     1.0   avg_der",
      "text/html": "<div>\n<style scoped>\n    .dataframe tbody tr th:only-of-type {\n        vertical-align: middle;\n    }\n\n    .dataframe tbody tr th {\n        vertical-align: top;\n    }\n\n    .dataframe thead th {\n        text-align: right;\n    }\n</style>\n<table border=\"1\" class=\"dataframe\">\n  <thead>\n    <tr style=\"text-align: right;\">\n      <th></th>\n      <th>avg_der</th>\n      <th>max_der</th>\n      <th>conv_der</th>\n      <th>avg</th>\n      <th>max</th>\n      <th>conv</th>\n      <th>best</th>\n    </tr>\n  </thead>\n  <tbody>\n    <tr>\n      <th>2</th>\n      <td>0.9545</td>\n      <td>0.9545</td>\n      <td>1.0</td>\n      <td>0.9545</td>\n      <td>0.9848</td>\n      <td>1.0</td>\n      <td>conv_der</td>\n    </tr>\n    <tr>\n      <th>3</th>\n      <td>1.0</td>\n      <td>1.0</td>\n      <td>1.0</td>\n      <td>1.0</td>\n      <td>1.0</td>\n      <td>1.0</td>\n      <td>avg_der</td>\n    </tr>\n    <tr>\n      <th>4</th>\n      <td>1.0</td>\n      <td>0.9865</td>\n      <td>1.0</td>\n      <td>1.0</td>\n      <td>1.0</td>\n      <td>1.0</td>\n      <td>avg_der</td>\n    </tr>\n    <tr>\n      <th>5</th>\n      <td>1.0</td>\n      <td>1.0</td>\n      <td>1.0</td>\n      <td>1.0</td>\n      <td>1.0</td>\n      <td>1.0</td>\n      <td>avg_der</td>\n    </tr>\n    <tr>\n      <th>6</th>\n      <td>1.0</td>\n      <td>0.9518</td>\n      <td>1.0</td>\n      <td>0.988</td>\n      <td>0.988</td>\n      <td>1.0</td>\n      <td>avg_der</td>\n    </tr>\n    <tr>\n      <th>7</th>\n      <td>1.0</td>\n      <td>1.0</td>\n      <td>1.0</td>\n      <td>1.0</td>\n      <td>1.0</td>\n      <td>0.9881</td>\n      <td>avg_der</td>\n    </tr>\n    <tr>\n      <th>8</th>\n      <td>1.0</td>\n      <td>1.0</td>\n      <td>1.0</td>\n      <td>1.0</td>\n      <td>1.0</td>\n      <td>1.0</td>\n      <td>avg_der</td>\n    </tr>\n    <tr>\n      <th>9</th>\n      <td>0.9091</td>\n      <td>0.8977</td>\n      <td>0.7614</td>\n      <td>0.8409</td>\n      <td>0.8295</td>\n      <td>0.8523</td>\n      <td>avg_der</td>\n    </tr>\n    <tr>\n      <th>10</th>\n      <td>0.9669</td>\n      <td>0.9256</td>\n      <td>0.9669</td>\n      <td>0.9835</td>\n      <td>0.9421</td>\n      <td>1.0</td>\n      <td>conv</td>\n    </tr>\n    <tr>\n      <th>11</th>\n      <td>1.0</td>\n      <td>1.0</td>\n      <td>1.0</td>\n      <td>1.0</td>\n      <td>1.0</td>\n      <td>1.0</td>\n      <td>avg_der</td>\n    </tr>\n    <tr>\n      <th>13</th>\n      <td>1.0</td>\n      <td>0.9909</td>\n      <td>1.0</td>\n      <td>1.0</td>\n      <td>1.0</td>\n      <td>1.0</td>\n      <td>avg_der</td>\n    </tr>\n    <tr>\n      <th>14</th>\n      <td>1.0</td>\n      <td>1.0</td>\n      <td>1.0</td>\n      <td>1.0</td>\n      <td>1.0</td>\n      <td>1.0</td>\n      <td>avg_der</td>\n    </tr>\n    <tr>\n      <th>15</th>\n      <td>1.0</td>\n      <td>1.0</td>\n      <td>1.0</td>\n      <td>1.0</td>\n      <td>1.0</td>\n      <td>0.9796</td>\n      <td>avg_der</td>\n    </tr>\n    <tr>\n      <th>16</th>\n      <td>1.0</td>\n      <td>1.0</td>\n      <td>1.0</td>\n      <td>1.0</td>\n      <td>1.0</td>\n      <td>1.0</td>\n      <td>avg_der</td>\n    </tr>\n    <tr>\n      <th>17</th>\n      <td>1.0</td>\n      <td>1.0</td>\n      <td>0.99</td>\n      <td>1.0</td>\n      <td>0.98</td>\n      <td>1.0</td>\n      <td>avg_der</td>\n    </tr>\n  </tbody>\n</table>\n</div>"
     },
     "execution_count": 11,
     "metadata": {},
     "output_type": "execute_result"
    }
   ],
   "source": [
    "best_rate_skip = pd.concat(\n",
    "    (\n",
    "        df[\"best_rate\"] for df in (\n",
    "            df_avg_der_skip,\n",
    "            df_max_der_skip,\n",
    "            df_conv_der_skip,\n",
    "            df_avg_skip,\n",
    "            df_max_skip,\n",
    "            df_conv_skip,\n",
    "        )\n",
    "    ),\n",
    "    axis=1,\n",
    ")\n",
    "best_rate_skip.columns = [\n",
    "    \"avg_der\",\n",
    "    \"max_der\",\n",
    "    \"conv_der\",\n",
    "    \"avg\",\n",
    "    \"max\",\n",
    "    \"conv\",\n",
    "]\n",
    "skip_best_type = best_rate_skip.idxmax(\"columns\")\n",
    "skip_best_type.name = \"best\"\n",
    "best_rate_skip.merge(skip_best_type, left_index=True, right_index=True)"
   ]
  },
  {
   "cell_type": "code",
   "execution_count": 51,
   "outputs": [
    {
     "data": {
      "text/plain": "',\"Avg, Derivative\",\"Max, Derivative\",\"Conv, Derivative\",\"Avg, Default\",\"Max, Default\",\"Conv, Default\"\\n2,0.954,0.954,1.0,0.954,0.985,1.0\\n3,1.0,1.0,1.0,1.0,1.0,1.0\\n4,1.0,0.986,1.0,1.0,1.0,1.0\\n5,1.0,1.0,1.0,1.0,1.0,1.0\\n6,1.0,0.952,1.0,0.988,0.988,1.0\\n7,1.0,1.0,1.0,1.0,1.0,0.988\\n8,1.0,1.0,1.0,1.0,1.0,1.0\\n9,0.909,0.898,0.761,0.841,0.83,0.852\\n10,0.967,0.926,0.967,0.984,0.942,1.0\\n11,1.0,1.0,1.0,1.0,1.0,1.0\\n13,1.0,0.991,1.0,1.0,1.0,1.0\\n14,1.0,1.0,1.0,1.0,1.0,1.0\\n15,1.0,1.0,1.0,1.0,1.0,0.98\\n16,1.0,1.0,1.0,1.0,1.0,1.0\\n17,1.0,1.0,0.99,1.0,0.98,1.0\\n'"
     },
     "execution_count": 51,
     "metadata": {},
     "output_type": "execute_result"
    }
   ],
   "source": [
    "best_rate_skip.columns = ['Avg, Derivative', 'Max, Derivative', 'Conv, Derivative', 'Avg, Default', 'Max, Default', 'Conv, Default']\n",
    "best_rate_skip.round(3).to_csv()"
   ],
   "metadata": {
    "collapsed": false
   }
  },
  {
   "cell_type": "code",
   "execution_count": 13,
   "metadata": {},
   "outputs": [
    {
     "data": {
      "text/plain": "       avg_der  max_der  conv_der    avg    max   conv\ncount     15.0     15.0      15.0   15.0   15.0   15.0\nmean     98.87    98.05     98.12  98.45  98.16   98.8\nstd       2.61     3.27      6.14   4.16   4.48    3.8\nmin      90.91    89.77     76.14  84.09  82.95  85.23\n25%      100.0    97.05     100.0   99.4  98.64  100.0\n50%      100.0    100.0     100.0  100.0  100.0  100.0\n75%      100.0    100.0     100.0  100.0  100.0  100.0\nmax      100.0    100.0     100.0  100.0  100.0  100.0",
      "text/html": "<div>\n<style scoped>\n    .dataframe tbody tr th:only-of-type {\n        vertical-align: middle;\n    }\n\n    .dataframe tbody tr th {\n        vertical-align: top;\n    }\n\n    .dataframe thead th {\n        text-align: right;\n    }\n</style>\n<table border=\"1\" class=\"dataframe\">\n  <thead>\n    <tr style=\"text-align: right;\">\n      <th></th>\n      <th>avg_der</th>\n      <th>max_der</th>\n      <th>conv_der</th>\n      <th>avg</th>\n      <th>max</th>\n      <th>conv</th>\n    </tr>\n  </thead>\n  <tbody>\n    <tr>\n      <th>count</th>\n      <td>15.0</td>\n      <td>15.0</td>\n      <td>15.0</td>\n      <td>15.0</td>\n      <td>15.0</td>\n      <td>15.0</td>\n    </tr>\n    <tr>\n      <th>mean</th>\n      <td>98.87</td>\n      <td>98.05</td>\n      <td>98.12</td>\n      <td>98.45</td>\n      <td>98.16</td>\n      <td>98.8</td>\n    </tr>\n    <tr>\n      <th>std</th>\n      <td>2.61</td>\n      <td>3.27</td>\n      <td>6.14</td>\n      <td>4.16</td>\n      <td>4.48</td>\n      <td>3.8</td>\n    </tr>\n    <tr>\n      <th>min</th>\n      <td>90.91</td>\n      <td>89.77</td>\n      <td>76.14</td>\n      <td>84.09</td>\n      <td>82.95</td>\n      <td>85.23</td>\n    </tr>\n    <tr>\n      <th>25%</th>\n      <td>100.0</td>\n      <td>97.05</td>\n      <td>100.0</td>\n      <td>99.4</td>\n      <td>98.64</td>\n      <td>100.0</td>\n    </tr>\n    <tr>\n      <th>50%</th>\n      <td>100.0</td>\n      <td>100.0</td>\n      <td>100.0</td>\n      <td>100.0</td>\n      <td>100.0</td>\n      <td>100.0</td>\n    </tr>\n    <tr>\n      <th>75%</th>\n      <td>100.0</td>\n      <td>100.0</td>\n      <td>100.0</td>\n      <td>100.0</td>\n      <td>100.0</td>\n      <td>100.0</td>\n    </tr>\n    <tr>\n      <th>max</th>\n      <td>100.0</td>\n      <td>100.0</td>\n      <td>100.0</td>\n      <td>100.0</td>\n      <td>100.0</td>\n      <td>100.0</td>\n    </tr>\n  </tbody>\n</table>\n</div>"
     },
     "execution_count": 13,
     "metadata": {},
     "output_type": "execute_result"
    }
   ],
   "source": [
    "(best_rate_skip * 100).describe().round(2)"
   ]
  },
  {
   "cell_type": "code",
   "execution_count": 56,
   "outputs": [
    {
     "data": {
      "text/plain": "',before,best_rate,delta_best_before\\n2,0.682,0.954,0.273\\n3,0.743,1.0,0.257\\n4,1.0,1.0,0.0\\n5,0.566,1.0,0.434\\n6,1.0,1.0,0.0\\n7,0.607,1.0,0.393\\n8,0.9,1.0,0.1\\n9,0.546,0.909,0.364\\n10,0.43,0.967,0.537\\n11,0.973,1.0,0.027\\n13,1.0,1.0,0.0\\n14,0.972,1.0,0.027\\n15,0.918,1.0,0.082\\n16,1.0,1.0,0.0\\n17,0.76,1.0,0.24\\n'"
     },
     "execution_count": 56,
     "metadata": {},
     "output_type": "execute_result"
    }
   ],
   "source": [
    "df_avg_der_skip[[\"before\", \"best_rate\", \"delta_best_before\"]].round(3).to_csv()"
   ],
   "metadata": {
    "collapsed": false
   }
  },
  {
   "cell_type": "markdown",
   "metadata": {},
   "source": [
    "# old runs"
   ]
  },
  {
   "cell_type": "code",
   "execution_count": 21,
   "metadata": {},
   "outputs": [],
   "source": [
    "df_05 = get_with_delta(Path(\"NetUpDownCoder3_3_ASGD_lr_1e-05\"))"
   ]
  },
  {
   "cell_type": "code",
   "execution_count": 22,
   "metadata": {},
   "outputs": [
    {
     "data": {
      "text/plain": "    delta_best_before  before  best_rate  best_step  worst_rate  worst_step\n2              0.3088  0.6618     0.9706         28      0.6618           0\n3              0.3889  0.6111        1.0          8      0.8333           0\n4               0.171  0.7632     0.9342         23      0.8947           0\n5              0.2326  0.7674        1.0          0         1.0           0\n6              0.1764  0.7765     0.9529         17      0.9059           2\n7              0.2758  0.6897     0.9655          2      0.8851           4\n8              0.2365  0.7527     0.9892          0      0.9677           2\n9              0.1538  0.6044     0.7582          0      0.6264           6\n10             0.2661  0.6694     0.9355         12      0.8548           0\n11             0.2321  0.7679        1.0          4      0.9732           0\n13             0.2213  0.7522     0.9735          8      0.9292           3\n14             0.2883  0.7027      0.991          0       0.982           5\n15               0.24    0.63       0.87         28        0.78           1\n16             0.4245  0.5755        1.0          0      0.9906          23\n17              0.301  0.6602     0.9612         16      0.8641          27",
      "text/html": "<div>\n<style scoped>\n    .dataframe tbody tr th:only-of-type {\n        vertical-align: middle;\n    }\n\n    .dataframe tbody tr th {\n        vertical-align: top;\n    }\n\n    .dataframe thead th {\n        text-align: right;\n    }\n</style>\n<table border=\"1\" class=\"dataframe\">\n  <thead>\n    <tr style=\"text-align: right;\">\n      <th></th>\n      <th>delta_best_before</th>\n      <th>before</th>\n      <th>best_rate</th>\n      <th>best_step</th>\n      <th>worst_rate</th>\n      <th>worst_step</th>\n    </tr>\n  </thead>\n  <tbody>\n    <tr>\n      <th>2</th>\n      <td>0.3088</td>\n      <td>0.6618</td>\n      <td>0.9706</td>\n      <td>28</td>\n      <td>0.6618</td>\n      <td>0</td>\n    </tr>\n    <tr>\n      <th>3</th>\n      <td>0.3889</td>\n      <td>0.6111</td>\n      <td>1.0</td>\n      <td>8</td>\n      <td>0.8333</td>\n      <td>0</td>\n    </tr>\n    <tr>\n      <th>4</th>\n      <td>0.171</td>\n      <td>0.7632</td>\n      <td>0.9342</td>\n      <td>23</td>\n      <td>0.8947</td>\n      <td>0</td>\n    </tr>\n    <tr>\n      <th>5</th>\n      <td>0.2326</td>\n      <td>0.7674</td>\n      <td>1.0</td>\n      <td>0</td>\n      <td>1.0</td>\n      <td>0</td>\n    </tr>\n    <tr>\n      <th>6</th>\n      <td>0.1764</td>\n      <td>0.7765</td>\n      <td>0.9529</td>\n      <td>17</td>\n      <td>0.9059</td>\n      <td>2</td>\n    </tr>\n    <tr>\n      <th>7</th>\n      <td>0.2758</td>\n      <td>0.6897</td>\n      <td>0.9655</td>\n      <td>2</td>\n      <td>0.8851</td>\n      <td>4</td>\n    </tr>\n    <tr>\n      <th>8</th>\n      <td>0.2365</td>\n      <td>0.7527</td>\n      <td>0.9892</td>\n      <td>0</td>\n      <td>0.9677</td>\n      <td>2</td>\n    </tr>\n    <tr>\n      <th>9</th>\n      <td>0.1538</td>\n      <td>0.6044</td>\n      <td>0.7582</td>\n      <td>0</td>\n      <td>0.6264</td>\n      <td>6</td>\n    </tr>\n    <tr>\n      <th>10</th>\n      <td>0.2661</td>\n      <td>0.6694</td>\n      <td>0.9355</td>\n      <td>12</td>\n      <td>0.8548</td>\n      <td>0</td>\n    </tr>\n    <tr>\n      <th>11</th>\n      <td>0.2321</td>\n      <td>0.7679</td>\n      <td>1.0</td>\n      <td>4</td>\n      <td>0.9732</td>\n      <td>0</td>\n    </tr>\n    <tr>\n      <th>13</th>\n      <td>0.2213</td>\n      <td>0.7522</td>\n      <td>0.9735</td>\n      <td>8</td>\n      <td>0.9292</td>\n      <td>3</td>\n    </tr>\n    <tr>\n      <th>14</th>\n      <td>0.2883</td>\n      <td>0.7027</td>\n      <td>0.991</td>\n      <td>0</td>\n      <td>0.982</td>\n      <td>5</td>\n    </tr>\n    <tr>\n      <th>15</th>\n      <td>0.24</td>\n      <td>0.63</td>\n      <td>0.87</td>\n      <td>28</td>\n      <td>0.78</td>\n      <td>1</td>\n    </tr>\n    <tr>\n      <th>16</th>\n      <td>0.4245</td>\n      <td>0.5755</td>\n      <td>1.0</td>\n      <td>0</td>\n      <td>0.9906</td>\n      <td>23</td>\n    </tr>\n    <tr>\n      <th>17</th>\n      <td>0.301</td>\n      <td>0.6602</td>\n      <td>0.9612</td>\n      <td>16</td>\n      <td>0.8641</td>\n      <td>27</td>\n    </tr>\n  </tbody>\n</table>\n</div>"
     },
     "execution_count": 22,
     "metadata": {},
     "output_type": "execute_result"
    }
   ],
   "source": [
    "df_05"
   ]
  },
  {
   "cell_type": "code",
   "execution_count": 23,
   "metadata": {},
   "outputs": [],
   "source": [
    "df_06 = get_with_delta(Path(\"NetUpDownCoder3_3_ASGD_lr_1e-06\"))"
   ]
  },
  {
   "cell_type": "code",
   "execution_count": 24,
   "metadata": {},
   "outputs": [
    {
     "data": {
      "text/plain": "    delta_best_before  before  best_rate  best_step  worst_rate  worst_step\n2              0.1912  0.7206     0.9118         41      0.7353           0\n3              0.4167  0.5694     0.9861         39      0.8333           7\n4              0.3026  0.6842     0.9868         26      0.9079           6\n5              0.1512  0.8488        1.0          0         1.0           0\n6              0.1412  0.7882     0.9294          2      0.8706          29\n7              0.2988  0.6782      0.977         18      0.8851           5\n8              0.2796  0.6989     0.9785          5      0.9247           2\n9              0.0329  0.7253     0.7582         17      0.5604           9\n10             0.2662  0.6935     0.9597         11      0.8065          16\n11             0.2411    0.75     0.9911          0      0.9911           0\n13             0.3186  0.6637     0.9823         22      0.9292          26\n14             0.3604  0.6396        1.0          7       0.964          31\n15               0.34    0.59       0.93         47        0.82          35\n16             0.4151  0.5849        1.0          2      0.9623          15\n17             0.3787  0.5825     0.9612         16      0.8932           3",
      "text/html": "<div>\n<style scoped>\n    .dataframe tbody tr th:only-of-type {\n        vertical-align: middle;\n    }\n\n    .dataframe tbody tr th {\n        vertical-align: top;\n    }\n\n    .dataframe thead th {\n        text-align: right;\n    }\n</style>\n<table border=\"1\" class=\"dataframe\">\n  <thead>\n    <tr style=\"text-align: right;\">\n      <th></th>\n      <th>delta_best_before</th>\n      <th>before</th>\n      <th>best_rate</th>\n      <th>best_step</th>\n      <th>worst_rate</th>\n      <th>worst_step</th>\n    </tr>\n  </thead>\n  <tbody>\n    <tr>\n      <th>2</th>\n      <td>0.1912</td>\n      <td>0.7206</td>\n      <td>0.9118</td>\n      <td>41</td>\n      <td>0.7353</td>\n      <td>0</td>\n    </tr>\n    <tr>\n      <th>3</th>\n      <td>0.4167</td>\n      <td>0.5694</td>\n      <td>0.9861</td>\n      <td>39</td>\n      <td>0.8333</td>\n      <td>7</td>\n    </tr>\n    <tr>\n      <th>4</th>\n      <td>0.3026</td>\n      <td>0.6842</td>\n      <td>0.9868</td>\n      <td>26</td>\n      <td>0.9079</td>\n      <td>6</td>\n    </tr>\n    <tr>\n      <th>5</th>\n      <td>0.1512</td>\n      <td>0.8488</td>\n      <td>1.0</td>\n      <td>0</td>\n      <td>1.0</td>\n      <td>0</td>\n    </tr>\n    <tr>\n      <th>6</th>\n      <td>0.1412</td>\n      <td>0.7882</td>\n      <td>0.9294</td>\n      <td>2</td>\n      <td>0.8706</td>\n      <td>29</td>\n    </tr>\n    <tr>\n      <th>7</th>\n      <td>0.2988</td>\n      <td>0.6782</td>\n      <td>0.977</td>\n      <td>18</td>\n      <td>0.8851</td>\n      <td>5</td>\n    </tr>\n    <tr>\n      <th>8</th>\n      <td>0.2796</td>\n      <td>0.6989</td>\n      <td>0.9785</td>\n      <td>5</td>\n      <td>0.9247</td>\n      <td>2</td>\n    </tr>\n    <tr>\n      <th>9</th>\n      <td>0.0329</td>\n      <td>0.7253</td>\n      <td>0.7582</td>\n      <td>17</td>\n      <td>0.5604</td>\n      <td>9</td>\n    </tr>\n    <tr>\n      <th>10</th>\n      <td>0.2662</td>\n      <td>0.6935</td>\n      <td>0.9597</td>\n      <td>11</td>\n      <td>0.8065</td>\n      <td>16</td>\n    </tr>\n    <tr>\n      <th>11</th>\n      <td>0.2411</td>\n      <td>0.75</td>\n      <td>0.9911</td>\n      <td>0</td>\n      <td>0.9911</td>\n      <td>0</td>\n    </tr>\n    <tr>\n      <th>13</th>\n      <td>0.3186</td>\n      <td>0.6637</td>\n      <td>0.9823</td>\n      <td>22</td>\n      <td>0.9292</td>\n      <td>26</td>\n    </tr>\n    <tr>\n      <th>14</th>\n      <td>0.3604</td>\n      <td>0.6396</td>\n      <td>1.0</td>\n      <td>7</td>\n      <td>0.964</td>\n      <td>31</td>\n    </tr>\n    <tr>\n      <th>15</th>\n      <td>0.34</td>\n      <td>0.59</td>\n      <td>0.93</td>\n      <td>47</td>\n      <td>0.82</td>\n      <td>35</td>\n    </tr>\n    <tr>\n      <th>16</th>\n      <td>0.4151</td>\n      <td>0.5849</td>\n      <td>1.0</td>\n      <td>2</td>\n      <td>0.9623</td>\n      <td>15</td>\n    </tr>\n    <tr>\n      <th>17</th>\n      <td>0.3787</td>\n      <td>0.5825</td>\n      <td>0.9612</td>\n      <td>16</td>\n      <td>0.8932</td>\n      <td>3</td>\n    </tr>\n  </tbody>\n</table>\n</div>"
     },
     "execution_count": 24,
     "metadata": {},
     "output_type": "execute_result"
    }
   ],
   "source": [
    "df_06"
   ]
  },
  {
   "cell_type": "code",
   "execution_count": 25,
   "metadata": {},
   "outputs": [],
   "source": [
    "df_05_skipped = get_with_delta(\n",
    "    Path(\"skip_users\") / \"NetUpDownCoder3_3_ASGD_lr_1e-05\"\n",
    ")"
   ]
  },
  {
   "cell_type": "code",
   "execution_count": 26,
   "metadata": {},
   "outputs": [
    {
     "data": {
      "text/plain": "    delta_best_before  before  best_rate  best_step  worst_rate  worst_step\n2              0.2206    0.75     0.9706          2      0.8824           8\n3              0.4306  0.5694        1.0          0      0.9583           7\n4              0.2237  0.7105     0.9342          0      0.8947           1\n5              0.2791  0.7209        1.0          0         1.0           0\n6              0.1765  0.7882     0.9647          1      0.8824          12\n7              0.2873  0.6782     0.9655          2       0.908          22\n8              0.2043  0.7849     0.9892         13      0.9677           1\n9              0.0989  0.6703     0.7692          1      0.4505          39\n10             0.2016  0.7661     0.9677         23      0.5565          31\n11             0.1964  0.8036        1.0          0      0.9554          22\n13             0.3451  0.6372     0.9823          5      0.9292          17\n14             0.3153  0.6757      0.991          0       0.982          15\n15               0.16    0.73       0.89          7        0.81          13\n16             0.3774  0.6226        1.0          0      0.9906          29\n17             0.1651  0.8058     0.9709         29      0.8835          28",
      "text/html": "<div>\n<style scoped>\n    .dataframe tbody tr th:only-of-type {\n        vertical-align: middle;\n    }\n\n    .dataframe tbody tr th {\n        vertical-align: top;\n    }\n\n    .dataframe thead th {\n        text-align: right;\n    }\n</style>\n<table border=\"1\" class=\"dataframe\">\n  <thead>\n    <tr style=\"text-align: right;\">\n      <th></th>\n      <th>delta_best_before</th>\n      <th>before</th>\n      <th>best_rate</th>\n      <th>best_step</th>\n      <th>worst_rate</th>\n      <th>worst_step</th>\n    </tr>\n  </thead>\n  <tbody>\n    <tr>\n      <th>2</th>\n      <td>0.2206</td>\n      <td>0.75</td>\n      <td>0.9706</td>\n      <td>2</td>\n      <td>0.8824</td>\n      <td>8</td>\n    </tr>\n    <tr>\n      <th>3</th>\n      <td>0.4306</td>\n      <td>0.5694</td>\n      <td>1.0</td>\n      <td>0</td>\n      <td>0.9583</td>\n      <td>7</td>\n    </tr>\n    <tr>\n      <th>4</th>\n      <td>0.2237</td>\n      <td>0.7105</td>\n      <td>0.9342</td>\n      <td>0</td>\n      <td>0.8947</td>\n      <td>1</td>\n    </tr>\n    <tr>\n      <th>5</th>\n      <td>0.2791</td>\n      <td>0.7209</td>\n      <td>1.0</td>\n      <td>0</td>\n      <td>1.0</td>\n      <td>0</td>\n    </tr>\n    <tr>\n      <th>6</th>\n      <td>0.1765</td>\n      <td>0.7882</td>\n      <td>0.9647</td>\n      <td>1</td>\n      <td>0.8824</td>\n      <td>12</td>\n    </tr>\n    <tr>\n      <th>7</th>\n      <td>0.2873</td>\n      <td>0.6782</td>\n      <td>0.9655</td>\n      <td>2</td>\n      <td>0.908</td>\n      <td>22</td>\n    </tr>\n    <tr>\n      <th>8</th>\n      <td>0.2043</td>\n      <td>0.7849</td>\n      <td>0.9892</td>\n      <td>13</td>\n      <td>0.9677</td>\n      <td>1</td>\n    </tr>\n    <tr>\n      <th>9</th>\n      <td>0.0989</td>\n      <td>0.6703</td>\n      <td>0.7692</td>\n      <td>1</td>\n      <td>0.4505</td>\n      <td>39</td>\n    </tr>\n    <tr>\n      <th>10</th>\n      <td>0.2016</td>\n      <td>0.7661</td>\n      <td>0.9677</td>\n      <td>23</td>\n      <td>0.5565</td>\n      <td>31</td>\n    </tr>\n    <tr>\n      <th>11</th>\n      <td>0.1964</td>\n      <td>0.8036</td>\n      <td>1.0</td>\n      <td>0</td>\n      <td>0.9554</td>\n      <td>22</td>\n    </tr>\n    <tr>\n      <th>13</th>\n      <td>0.3451</td>\n      <td>0.6372</td>\n      <td>0.9823</td>\n      <td>5</td>\n      <td>0.9292</td>\n      <td>17</td>\n    </tr>\n    <tr>\n      <th>14</th>\n      <td>0.3153</td>\n      <td>0.6757</td>\n      <td>0.991</td>\n      <td>0</td>\n      <td>0.982</td>\n      <td>15</td>\n    </tr>\n    <tr>\n      <th>15</th>\n      <td>0.16</td>\n      <td>0.73</td>\n      <td>0.89</td>\n      <td>7</td>\n      <td>0.81</td>\n      <td>13</td>\n    </tr>\n    <tr>\n      <th>16</th>\n      <td>0.3774</td>\n      <td>0.6226</td>\n      <td>1.0</td>\n      <td>0</td>\n      <td>0.9906</td>\n      <td>29</td>\n    </tr>\n    <tr>\n      <th>17</th>\n      <td>0.1651</td>\n      <td>0.8058</td>\n      <td>0.9709</td>\n      <td>29</td>\n      <td>0.8835</td>\n      <td>28</td>\n    </tr>\n  </tbody>\n</table>\n</div>"
     },
     "execution_count": 26,
     "metadata": {},
     "output_type": "execute_result"
    }
   ],
   "source": [
    "df_05_skipped"
   ]
  },
  {
   "cell_type": "code",
   "execution_count": 27,
   "metadata": {},
   "outputs": [],
   "source": [
    "df_06_skipped = get_with_delta(\n",
    "    Path(\"skip_users\") / \"NetUpDownCoder3_3_ASGD_lr_1e-06\"\n",
    ")"
   ]
  },
  {
   "cell_type": "code",
   "execution_count": 28,
   "metadata": {},
   "outputs": [
    {
     "data": {
      "text/plain": "    delta_best_before  before  best_rate  best_step  worst_rate  worst_step\n2              0.2059  0.7059     0.9118          3      0.8824          10\n3              0.4444  0.5417     0.9861          3      0.9167          43\n4              0.2763  0.7105     0.9868          0      0.8816          22\n5              0.1628  0.8372        1.0          0         1.0           0\n6              0.1883  0.7529     0.9412         19      0.8706          29\n7              0.2873  0.6897      0.977         12      0.9425          14\n8              0.1936  0.7849     0.9785          0      0.9785           0\n9              0.0329  0.7473     0.7802         19      0.5495          39\n10             0.2258  0.7339     0.9597          6      0.8629          34\n11             0.1429  0.8482     0.9911          0      0.9732          21\n13             0.3275   0.646     0.9735          1      0.9381          17\n14             0.2703  0.7297        1.0          0       0.964          31\n15               0.29    0.63       0.92         28        0.85           6\n16             0.1698  0.8302        1.0          5      0.9811           0\n17             0.2136  0.7476     0.9612          0      0.8835           9",
      "text/html": "<div>\n<style scoped>\n    .dataframe tbody tr th:only-of-type {\n        vertical-align: middle;\n    }\n\n    .dataframe tbody tr th {\n        vertical-align: top;\n    }\n\n    .dataframe thead th {\n        text-align: right;\n    }\n</style>\n<table border=\"1\" class=\"dataframe\">\n  <thead>\n    <tr style=\"text-align: right;\">\n      <th></th>\n      <th>delta_best_before</th>\n      <th>before</th>\n      <th>best_rate</th>\n      <th>best_step</th>\n      <th>worst_rate</th>\n      <th>worst_step</th>\n    </tr>\n  </thead>\n  <tbody>\n    <tr>\n      <th>2</th>\n      <td>0.2059</td>\n      <td>0.7059</td>\n      <td>0.9118</td>\n      <td>3</td>\n      <td>0.8824</td>\n      <td>10</td>\n    </tr>\n    <tr>\n      <th>3</th>\n      <td>0.4444</td>\n      <td>0.5417</td>\n      <td>0.9861</td>\n      <td>3</td>\n      <td>0.9167</td>\n      <td>43</td>\n    </tr>\n    <tr>\n      <th>4</th>\n      <td>0.2763</td>\n      <td>0.7105</td>\n      <td>0.9868</td>\n      <td>0</td>\n      <td>0.8816</td>\n      <td>22</td>\n    </tr>\n    <tr>\n      <th>5</th>\n      <td>0.1628</td>\n      <td>0.8372</td>\n      <td>1.0</td>\n      <td>0</td>\n      <td>1.0</td>\n      <td>0</td>\n    </tr>\n    <tr>\n      <th>6</th>\n      <td>0.1883</td>\n      <td>0.7529</td>\n      <td>0.9412</td>\n      <td>19</td>\n      <td>0.8706</td>\n      <td>29</td>\n    </tr>\n    <tr>\n      <th>7</th>\n      <td>0.2873</td>\n      <td>0.6897</td>\n      <td>0.977</td>\n      <td>12</td>\n      <td>0.9425</td>\n      <td>14</td>\n    </tr>\n    <tr>\n      <th>8</th>\n      <td>0.1936</td>\n      <td>0.7849</td>\n      <td>0.9785</td>\n      <td>0</td>\n      <td>0.9785</td>\n      <td>0</td>\n    </tr>\n    <tr>\n      <th>9</th>\n      <td>0.0329</td>\n      <td>0.7473</td>\n      <td>0.7802</td>\n      <td>19</td>\n      <td>0.5495</td>\n      <td>39</td>\n    </tr>\n    <tr>\n      <th>10</th>\n      <td>0.2258</td>\n      <td>0.7339</td>\n      <td>0.9597</td>\n      <td>6</td>\n      <td>0.8629</td>\n      <td>34</td>\n    </tr>\n    <tr>\n      <th>11</th>\n      <td>0.1429</td>\n      <td>0.8482</td>\n      <td>0.9911</td>\n      <td>0</td>\n      <td>0.9732</td>\n      <td>21</td>\n    </tr>\n    <tr>\n      <th>13</th>\n      <td>0.3275</td>\n      <td>0.646</td>\n      <td>0.9735</td>\n      <td>1</td>\n      <td>0.9381</td>\n      <td>17</td>\n    </tr>\n    <tr>\n      <th>14</th>\n      <td>0.2703</td>\n      <td>0.7297</td>\n      <td>1.0</td>\n      <td>0</td>\n      <td>0.964</td>\n      <td>31</td>\n    </tr>\n    <tr>\n      <th>15</th>\n      <td>0.29</td>\n      <td>0.63</td>\n      <td>0.92</td>\n      <td>28</td>\n      <td>0.85</td>\n      <td>6</td>\n    </tr>\n    <tr>\n      <th>16</th>\n      <td>0.1698</td>\n      <td>0.8302</td>\n      <td>1.0</td>\n      <td>5</td>\n      <td>0.9811</td>\n      <td>0</td>\n    </tr>\n    <tr>\n      <th>17</th>\n      <td>0.2136</td>\n      <td>0.7476</td>\n      <td>0.9612</td>\n      <td>0</td>\n      <td>0.8835</td>\n      <td>9</td>\n    </tr>\n  </tbody>\n</table>\n</div>"
     },
     "execution_count": 28,
     "metadata": {},
     "output_type": "execute_result"
    }
   ],
   "source": [
    "df_06_skipped"
   ]
  },
  {
   "cell_type": "code",
   "execution_count": 29,
   "metadata": {},
   "outputs": [],
   "source": [
    "df_06_skipped_norm = get_with_delta(\n",
    "    Path(\"normalised\").joinpath(\n",
    "        \"skip_users\", \"after_personalised\", \"NetUpDownCoder3_3_ASGD_lr_1e-06\"\n",
    "    )\n",
    ")"
   ]
  },
  {
   "cell_type": "code",
   "execution_count": 30,
   "metadata": {},
   "outputs": [
    {
     "data": {
      "text/plain": "    delta_best_before  before  best_rate  best_step  worst_rate  worst_step\n2              0.2647  0.6618     0.9265         49      0.6176          13\n3              0.4583  0.5417        1.0          2      0.5417           0\n4              0.4211  0.5789        1.0          0      0.8816          31\n5              0.4302  0.5698        1.0          9      0.5698           0\n6              0.2824  0.6235     0.9059         45      0.6235           0\n7              0.3678  0.6207     0.9885         45      0.8966          34\n8              0.4194  0.5806        1.0          1      0.9677          23\n9                 0.0  0.6484     0.6484          0      0.6484           0\n10             0.3146  0.6048     0.9194         43      0.3952          42\n11             0.4911  0.5089        1.0          2      0.5089           0\n13             0.3717  0.5929     0.9646         44      0.5929           0\n14             0.4955  0.5045        1.0          0       0.955          34\n15               0.34    0.63       0.97         49        0.48          17\n16             0.5283  0.4717        1.0          0      0.9906          25\n17             0.5146  0.4854        1.0          0      0.9903           3",
      "text/html": "<div>\n<style scoped>\n    .dataframe tbody tr th:only-of-type {\n        vertical-align: middle;\n    }\n\n    .dataframe tbody tr th {\n        vertical-align: top;\n    }\n\n    .dataframe thead th {\n        text-align: right;\n    }\n</style>\n<table border=\"1\" class=\"dataframe\">\n  <thead>\n    <tr style=\"text-align: right;\">\n      <th></th>\n      <th>delta_best_before</th>\n      <th>before</th>\n      <th>best_rate</th>\n      <th>best_step</th>\n      <th>worst_rate</th>\n      <th>worst_step</th>\n    </tr>\n  </thead>\n  <tbody>\n    <tr>\n      <th>2</th>\n      <td>0.2647</td>\n      <td>0.6618</td>\n      <td>0.9265</td>\n      <td>49</td>\n      <td>0.6176</td>\n      <td>13</td>\n    </tr>\n    <tr>\n      <th>3</th>\n      <td>0.4583</td>\n      <td>0.5417</td>\n      <td>1.0</td>\n      <td>2</td>\n      <td>0.5417</td>\n      <td>0</td>\n    </tr>\n    <tr>\n      <th>4</th>\n      <td>0.4211</td>\n      <td>0.5789</td>\n      <td>1.0</td>\n      <td>0</td>\n      <td>0.8816</td>\n      <td>31</td>\n    </tr>\n    <tr>\n      <th>5</th>\n      <td>0.4302</td>\n      <td>0.5698</td>\n      <td>1.0</td>\n      <td>9</td>\n      <td>0.5698</td>\n      <td>0</td>\n    </tr>\n    <tr>\n      <th>6</th>\n      <td>0.2824</td>\n      <td>0.6235</td>\n      <td>0.9059</td>\n      <td>45</td>\n      <td>0.6235</td>\n      <td>0</td>\n    </tr>\n    <tr>\n      <th>7</th>\n      <td>0.3678</td>\n      <td>0.6207</td>\n      <td>0.9885</td>\n      <td>45</td>\n      <td>0.8966</td>\n      <td>34</td>\n    </tr>\n    <tr>\n      <th>8</th>\n      <td>0.4194</td>\n      <td>0.5806</td>\n      <td>1.0</td>\n      <td>1</td>\n      <td>0.9677</td>\n      <td>23</td>\n    </tr>\n    <tr>\n      <th>9</th>\n      <td>0.0</td>\n      <td>0.6484</td>\n      <td>0.6484</td>\n      <td>0</td>\n      <td>0.6484</td>\n      <td>0</td>\n    </tr>\n    <tr>\n      <th>10</th>\n      <td>0.3146</td>\n      <td>0.6048</td>\n      <td>0.9194</td>\n      <td>43</td>\n      <td>0.3952</td>\n      <td>42</td>\n    </tr>\n    <tr>\n      <th>11</th>\n      <td>0.4911</td>\n      <td>0.5089</td>\n      <td>1.0</td>\n      <td>2</td>\n      <td>0.5089</td>\n      <td>0</td>\n    </tr>\n    <tr>\n      <th>13</th>\n      <td>0.3717</td>\n      <td>0.5929</td>\n      <td>0.9646</td>\n      <td>44</td>\n      <td>0.5929</td>\n      <td>0</td>\n    </tr>\n    <tr>\n      <th>14</th>\n      <td>0.4955</td>\n      <td>0.5045</td>\n      <td>1.0</td>\n      <td>0</td>\n      <td>0.955</td>\n      <td>34</td>\n    </tr>\n    <tr>\n      <th>15</th>\n      <td>0.34</td>\n      <td>0.63</td>\n      <td>0.97</td>\n      <td>49</td>\n      <td>0.48</td>\n      <td>17</td>\n    </tr>\n    <tr>\n      <th>16</th>\n      <td>0.5283</td>\n      <td>0.4717</td>\n      <td>1.0</td>\n      <td>0</td>\n      <td>0.9906</td>\n      <td>25</td>\n    </tr>\n    <tr>\n      <th>17</th>\n      <td>0.5146</td>\n      <td>0.4854</td>\n      <td>1.0</td>\n      <td>0</td>\n      <td>0.9903</td>\n      <td>3</td>\n    </tr>\n  </tbody>\n</table>\n</div>"
     },
     "execution_count": 30,
     "metadata": {},
     "output_type": "execute_result"
    }
   ],
   "source": [
    "df_06_skipped_norm"
   ]
  },
  {
   "cell_type": "code",
   "execution_count": 31,
   "metadata": {},
   "outputs": [],
   "source": [
    "df_06_norm = get_with_delta(\n",
    "    Path(\"normalised\").joinpath(\n",
    "        \"common\", \"after_personalised\", \"NetUpDownCoder3_3_ASGD_lr_1e-06\"\n",
    "    )\n",
    ")"
   ]
  },
  {
   "cell_type": "code",
   "execution_count": 32,
   "metadata": {},
   "outputs": [
    {
     "data": {
      "text/plain": "    delta_best_before  before  best_rate  best_step  worst_rate  worst_step\n2              0.2353  0.6618     0.8971         46      0.3529          18\n3              0.4583  0.5417        1.0          2      0.5417           0\n4              0.4211  0.5789        1.0          4      0.5789           0\n5              0.4302  0.5698        1.0          5      0.5698           0\n6              0.2941  0.6235     0.9176         37      0.6235           0\n7              0.3563  0.6207      0.977         19      0.6207           0\n8              0.4194  0.5806        1.0          6      0.5806           0\n9              0.1758  0.6484     0.8242         22      0.5934           7\n10             0.2742  0.6048      0.879         49      0.4839          28\n11             0.4911  0.5089        1.0          2      0.5089           0\n13             0.3983  0.5929     0.9912         32      0.5929           0\n14             0.4955  0.5045        1.0          2      0.5045           0\n15               0.31    0.63       0.94         19        0.35          18\n16             0.5283  0.4717        1.0          1       0.934           0\n17             0.5146  0.4854        1.0          6      0.9903           0",
      "text/html": "<div>\n<style scoped>\n    .dataframe tbody tr th:only-of-type {\n        vertical-align: middle;\n    }\n\n    .dataframe tbody tr th {\n        vertical-align: top;\n    }\n\n    .dataframe thead th {\n        text-align: right;\n    }\n</style>\n<table border=\"1\" class=\"dataframe\">\n  <thead>\n    <tr style=\"text-align: right;\">\n      <th></th>\n      <th>delta_best_before</th>\n      <th>before</th>\n      <th>best_rate</th>\n      <th>best_step</th>\n      <th>worst_rate</th>\n      <th>worst_step</th>\n    </tr>\n  </thead>\n  <tbody>\n    <tr>\n      <th>2</th>\n      <td>0.2353</td>\n      <td>0.6618</td>\n      <td>0.8971</td>\n      <td>46</td>\n      <td>0.3529</td>\n      <td>18</td>\n    </tr>\n    <tr>\n      <th>3</th>\n      <td>0.4583</td>\n      <td>0.5417</td>\n      <td>1.0</td>\n      <td>2</td>\n      <td>0.5417</td>\n      <td>0</td>\n    </tr>\n    <tr>\n      <th>4</th>\n      <td>0.4211</td>\n      <td>0.5789</td>\n      <td>1.0</td>\n      <td>4</td>\n      <td>0.5789</td>\n      <td>0</td>\n    </tr>\n    <tr>\n      <th>5</th>\n      <td>0.4302</td>\n      <td>0.5698</td>\n      <td>1.0</td>\n      <td>5</td>\n      <td>0.5698</td>\n      <td>0</td>\n    </tr>\n    <tr>\n      <th>6</th>\n      <td>0.2941</td>\n      <td>0.6235</td>\n      <td>0.9176</td>\n      <td>37</td>\n      <td>0.6235</td>\n      <td>0</td>\n    </tr>\n    <tr>\n      <th>7</th>\n      <td>0.3563</td>\n      <td>0.6207</td>\n      <td>0.977</td>\n      <td>19</td>\n      <td>0.6207</td>\n      <td>0</td>\n    </tr>\n    <tr>\n      <th>8</th>\n      <td>0.4194</td>\n      <td>0.5806</td>\n      <td>1.0</td>\n      <td>6</td>\n      <td>0.5806</td>\n      <td>0</td>\n    </tr>\n    <tr>\n      <th>9</th>\n      <td>0.1758</td>\n      <td>0.6484</td>\n      <td>0.8242</td>\n      <td>22</td>\n      <td>0.5934</td>\n      <td>7</td>\n    </tr>\n    <tr>\n      <th>10</th>\n      <td>0.2742</td>\n      <td>0.6048</td>\n      <td>0.879</td>\n      <td>49</td>\n      <td>0.4839</td>\n      <td>28</td>\n    </tr>\n    <tr>\n      <th>11</th>\n      <td>0.4911</td>\n      <td>0.5089</td>\n      <td>1.0</td>\n      <td>2</td>\n      <td>0.5089</td>\n      <td>0</td>\n    </tr>\n    <tr>\n      <th>13</th>\n      <td>0.3983</td>\n      <td>0.5929</td>\n      <td>0.9912</td>\n      <td>32</td>\n      <td>0.5929</td>\n      <td>0</td>\n    </tr>\n    <tr>\n      <th>14</th>\n      <td>0.4955</td>\n      <td>0.5045</td>\n      <td>1.0</td>\n      <td>2</td>\n      <td>0.5045</td>\n      <td>0</td>\n    </tr>\n    <tr>\n      <th>15</th>\n      <td>0.31</td>\n      <td>0.63</td>\n      <td>0.94</td>\n      <td>19</td>\n      <td>0.35</td>\n      <td>18</td>\n    </tr>\n    <tr>\n      <th>16</th>\n      <td>0.5283</td>\n      <td>0.4717</td>\n      <td>1.0</td>\n      <td>1</td>\n      <td>0.934</td>\n      <td>0</td>\n    </tr>\n    <tr>\n      <th>17</th>\n      <td>0.5146</td>\n      <td>0.4854</td>\n      <td>1.0</td>\n      <td>6</td>\n      <td>0.9903</td>\n      <td>0</td>\n    </tr>\n  </tbody>\n</table>\n</div>"
     },
     "execution_count": 32,
     "metadata": {},
     "output_type": "execute_result"
    }
   ],
   "source": [
    "df_06_norm"
   ]
  },
  {
   "cell_type": "code",
   "execution_count": 33,
   "metadata": {},
   "outputs": [
    {
     "data": {
      "text/plain": "         before  worst_rate  best_rate  delta_best_before\ncount      15.0        15.0       15.0               15.0\nmean   0.692313    0.876587   0.953453            0.26114\nstd    0.068218    0.113881   0.064385           0.075106\nmin      0.5755      0.6264     0.7582             0.1538\n25%      0.6451     0.84405     0.9442             0.2267\n50%      0.6897      0.8947     0.9706               0.24\n75%     0.75795     0.97045     0.9955            0.29465\nmax      0.7765         1.0        1.0             0.4245",
      "text/html": "<div>\n<style scoped>\n    .dataframe tbody tr th:only-of-type {\n        vertical-align: middle;\n    }\n\n    .dataframe tbody tr th {\n        vertical-align: top;\n    }\n\n    .dataframe thead th {\n        text-align: right;\n    }\n</style>\n<table border=\"1\" class=\"dataframe\">\n  <thead>\n    <tr style=\"text-align: right;\">\n      <th></th>\n      <th>before</th>\n      <th>worst_rate</th>\n      <th>best_rate</th>\n      <th>delta_best_before</th>\n    </tr>\n  </thead>\n  <tbody>\n    <tr>\n      <th>count</th>\n      <td>15.0</td>\n      <td>15.0</td>\n      <td>15.0</td>\n      <td>15.0</td>\n    </tr>\n    <tr>\n      <th>mean</th>\n      <td>0.692313</td>\n      <td>0.876587</td>\n      <td>0.953453</td>\n      <td>0.26114</td>\n    </tr>\n    <tr>\n      <th>std</th>\n      <td>0.068218</td>\n      <td>0.113881</td>\n      <td>0.064385</td>\n      <td>0.075106</td>\n    </tr>\n    <tr>\n      <th>min</th>\n      <td>0.5755</td>\n      <td>0.6264</td>\n      <td>0.7582</td>\n      <td>0.1538</td>\n    </tr>\n    <tr>\n      <th>25%</th>\n      <td>0.6451</td>\n      <td>0.84405</td>\n      <td>0.9442</td>\n      <td>0.2267</td>\n    </tr>\n    <tr>\n      <th>50%</th>\n      <td>0.6897</td>\n      <td>0.8947</td>\n      <td>0.9706</td>\n      <td>0.24</td>\n    </tr>\n    <tr>\n      <th>75%</th>\n      <td>0.75795</td>\n      <td>0.97045</td>\n      <td>0.9955</td>\n      <td>0.29465</td>\n    </tr>\n    <tr>\n      <th>max</th>\n      <td>0.7765</td>\n      <td>1.0</td>\n      <td>1.0</td>\n      <td>0.4245</td>\n    </tr>\n  </tbody>\n</table>\n</div>"
     },
     "execution_count": 33,
     "metadata": {},
     "output_type": "execute_result"
    }
   ],
   "source": [
    "df_05[[\"before\", \"worst_rate\", \"best_rate\", \"delta_best_before\"]].describe()"
   ]
  },
  {
   "cell_type": "code",
   "execution_count": 34,
   "metadata": {},
   "outputs": [
    {
     "data": {
      "text/plain": "         before  worst_rate  best_rate  delta_best_before\ncount      15.0        15.0       15.0               15.0\nmean   0.681187     0.87224   0.956807            0.27562\nstd    0.080232    0.113207   0.061544           0.108665\nmin      0.5694      0.5604     0.7582             0.0329\n25%      0.6148     0.82665    0.94485            0.21615\n50%      0.6842      0.8932     0.9785             0.2988\n75%     0.72295     0.94575    0.98895             0.3502\nmax      0.8488         1.0        1.0             0.4167",
      "text/html": "<div>\n<style scoped>\n    .dataframe tbody tr th:only-of-type {\n        vertical-align: middle;\n    }\n\n    .dataframe tbody tr th {\n        vertical-align: top;\n    }\n\n    .dataframe thead th {\n        text-align: right;\n    }\n</style>\n<table border=\"1\" class=\"dataframe\">\n  <thead>\n    <tr style=\"text-align: right;\">\n      <th></th>\n      <th>before</th>\n      <th>worst_rate</th>\n      <th>best_rate</th>\n      <th>delta_best_before</th>\n    </tr>\n  </thead>\n  <tbody>\n    <tr>\n      <th>count</th>\n      <td>15.0</td>\n      <td>15.0</td>\n      <td>15.0</td>\n      <td>15.0</td>\n    </tr>\n    <tr>\n      <th>mean</th>\n      <td>0.681187</td>\n      <td>0.87224</td>\n      <td>0.956807</td>\n      <td>0.27562</td>\n    </tr>\n    <tr>\n      <th>std</th>\n      <td>0.080232</td>\n      <td>0.113207</td>\n      <td>0.061544</td>\n      <td>0.108665</td>\n    </tr>\n    <tr>\n      <th>min</th>\n      <td>0.5694</td>\n      <td>0.5604</td>\n      <td>0.7582</td>\n      <td>0.0329</td>\n    </tr>\n    <tr>\n      <th>25%</th>\n      <td>0.6148</td>\n      <td>0.82665</td>\n      <td>0.94485</td>\n      <td>0.21615</td>\n    </tr>\n    <tr>\n      <th>50%</th>\n      <td>0.6842</td>\n      <td>0.8932</td>\n      <td>0.9785</td>\n      <td>0.2988</td>\n    </tr>\n    <tr>\n      <th>75%</th>\n      <td>0.72295</td>\n      <td>0.94575</td>\n      <td>0.98895</td>\n      <td>0.3502</td>\n    </tr>\n    <tr>\n      <th>max</th>\n      <td>0.8488</td>\n      <td>1.0</td>\n      <td>1.0</td>\n      <td>0.4167</td>\n    </tr>\n  </tbody>\n</table>\n</div>"
     },
     "execution_count": 34,
     "metadata": {},
     "output_type": "execute_result"
    }
   ],
   "source": [
    "df_06[[\"before\", \"worst_rate\", \"best_rate\", \"delta_best_before\"]].describe()"
   ]
  },
  {
   "cell_type": "code",
   "execution_count": 35,
   "metadata": {},
   "outputs": [
    {
     "data": {
      "text/plain": "         before  worst_rate  best_rate  delta_best_before\ncount      15.0        15.0       15.0               15.0\nmean   0.714227     0.87008   0.959687            0.24546\nstd    0.071281    0.158685   0.060369           0.091216\nmin      0.5694      0.4505     0.7692             0.0989\n25%       0.673      0.8824     0.9651            0.18645\n50%      0.7209       0.908     0.9709             0.2206\n75%      0.7755       0.963     0.9955             0.3013\nmax      0.8058         1.0        1.0             0.4306",
      "text/html": "<div>\n<style scoped>\n    .dataframe tbody tr th:only-of-type {\n        vertical-align: middle;\n    }\n\n    .dataframe tbody tr th {\n        vertical-align: top;\n    }\n\n    .dataframe thead th {\n        text-align: right;\n    }\n</style>\n<table border=\"1\" class=\"dataframe\">\n  <thead>\n    <tr style=\"text-align: right;\">\n      <th></th>\n      <th>before</th>\n      <th>worst_rate</th>\n      <th>best_rate</th>\n      <th>delta_best_before</th>\n    </tr>\n  </thead>\n  <tbody>\n    <tr>\n      <th>count</th>\n      <td>15.0</td>\n      <td>15.0</td>\n      <td>15.0</td>\n      <td>15.0</td>\n    </tr>\n    <tr>\n      <th>mean</th>\n      <td>0.714227</td>\n      <td>0.87008</td>\n      <td>0.959687</td>\n      <td>0.24546</td>\n    </tr>\n    <tr>\n      <th>std</th>\n      <td>0.071281</td>\n      <td>0.158685</td>\n      <td>0.060369</td>\n      <td>0.091216</td>\n    </tr>\n    <tr>\n      <th>min</th>\n      <td>0.5694</td>\n      <td>0.4505</td>\n      <td>0.7692</td>\n      <td>0.0989</td>\n    </tr>\n    <tr>\n      <th>25%</th>\n      <td>0.673</td>\n      <td>0.8824</td>\n      <td>0.9651</td>\n      <td>0.18645</td>\n    </tr>\n    <tr>\n      <th>50%</th>\n      <td>0.7209</td>\n      <td>0.908</td>\n      <td>0.9709</td>\n      <td>0.2206</td>\n    </tr>\n    <tr>\n      <th>75%</th>\n      <td>0.7755</td>\n      <td>0.963</td>\n      <td>0.9955</td>\n      <td>0.3013</td>\n    </tr>\n    <tr>\n      <th>max</th>\n      <td>0.8058</td>\n      <td>1.0</td>\n      <td>1.0</td>\n      <td>0.4306</td>\n    </tr>\n  </tbody>\n</table>\n</div>"
     },
     "execution_count": 35,
     "metadata": {},
     "output_type": "execute_result"
    }
   ],
   "source": [
    "df_05_skipped[\n",
    "    [\"before\", \"worst_rate\", \"best_rate\", \"delta_best_before\"]\n",
    "].describe()"
   ]
  },
  {
   "cell_type": "code",
   "execution_count": 36,
   "metadata": {},
   "outputs": [
    {
     "data": {
      "text/plain": "         before  worst_rate  best_rate  delta_best_before\ncount      15.0        15.0       15.0               15.0\nmean   0.729047    0.898307   0.957807            0.22876\nstd    0.082267    0.108298   0.056388           0.094343\nmin      0.5417      0.5495     0.7802             0.0329\n25%      0.6978      0.8761    0.95045            0.17905\n50%      0.7339      0.9167      0.977             0.2136\n75%      0.7689      0.9686    0.98895             0.2818\nmax      0.8482         1.0        1.0             0.4444",
      "text/html": "<div>\n<style scoped>\n    .dataframe tbody tr th:only-of-type {\n        vertical-align: middle;\n    }\n\n    .dataframe tbody tr th {\n        vertical-align: top;\n    }\n\n    .dataframe thead th {\n        text-align: right;\n    }\n</style>\n<table border=\"1\" class=\"dataframe\">\n  <thead>\n    <tr style=\"text-align: right;\">\n      <th></th>\n      <th>before</th>\n      <th>worst_rate</th>\n      <th>best_rate</th>\n      <th>delta_best_before</th>\n    </tr>\n  </thead>\n  <tbody>\n    <tr>\n      <th>count</th>\n      <td>15.0</td>\n      <td>15.0</td>\n      <td>15.0</td>\n      <td>15.0</td>\n    </tr>\n    <tr>\n      <th>mean</th>\n      <td>0.729047</td>\n      <td>0.898307</td>\n      <td>0.957807</td>\n      <td>0.22876</td>\n    </tr>\n    <tr>\n      <th>std</th>\n      <td>0.082267</td>\n      <td>0.108298</td>\n      <td>0.056388</td>\n      <td>0.094343</td>\n    </tr>\n    <tr>\n      <th>min</th>\n      <td>0.5417</td>\n      <td>0.5495</td>\n      <td>0.7802</td>\n      <td>0.0329</td>\n    </tr>\n    <tr>\n      <th>25%</th>\n      <td>0.6978</td>\n      <td>0.8761</td>\n      <td>0.95045</td>\n      <td>0.17905</td>\n    </tr>\n    <tr>\n      <th>50%</th>\n      <td>0.7339</td>\n      <td>0.9167</td>\n      <td>0.977</td>\n      <td>0.2136</td>\n    </tr>\n    <tr>\n      <th>75%</th>\n      <td>0.7689</td>\n      <td>0.9686</td>\n      <td>0.98895</td>\n      <td>0.2818</td>\n    </tr>\n    <tr>\n      <th>max</th>\n      <td>0.8482</td>\n      <td>1.0</td>\n      <td>1.0</td>\n      <td>0.4444</td>\n    </tr>\n  </tbody>\n</table>\n</div>"
     },
     "execution_count": 36,
     "metadata": {},
     "output_type": "execute_result"
    }
   ],
   "source": [
    "df_06_skipped[\n",
    "    [\"before\", \"worst_rate\", \"best_rate\", \"delta_best_before\"]\n",
    "].describe()"
   ]
  },
  {
   "cell_type": "code",
   "execution_count": 37,
   "metadata": {},
   "outputs": [
    {
     "data": {
      "text/plain": "         before  worst_rate  best_rate  delta_best_before\ncount      15.0        15.0       15.0               15.0\nmean   0.574907    0.710653   0.954887            0.37998\nstd    0.060248    0.210772   0.091078           0.133898\nmin      0.4717      0.3952     0.6484                0.0\n25%      0.5253     0.55575    0.94555             0.3273\n50%      0.5806      0.6235        1.0             0.4194\n75%      0.6221      0.9258        1.0             0.4747\nmax      0.6618      0.9906        1.0             0.5283",
      "text/html": "<div>\n<style scoped>\n    .dataframe tbody tr th:only-of-type {\n        vertical-align: middle;\n    }\n\n    .dataframe tbody tr th {\n        vertical-align: top;\n    }\n\n    .dataframe thead th {\n        text-align: right;\n    }\n</style>\n<table border=\"1\" class=\"dataframe\">\n  <thead>\n    <tr style=\"text-align: right;\">\n      <th></th>\n      <th>before</th>\n      <th>worst_rate</th>\n      <th>best_rate</th>\n      <th>delta_best_before</th>\n    </tr>\n  </thead>\n  <tbody>\n    <tr>\n      <th>count</th>\n      <td>15.0</td>\n      <td>15.0</td>\n      <td>15.0</td>\n      <td>15.0</td>\n    </tr>\n    <tr>\n      <th>mean</th>\n      <td>0.574907</td>\n      <td>0.710653</td>\n      <td>0.954887</td>\n      <td>0.37998</td>\n    </tr>\n    <tr>\n      <th>std</th>\n      <td>0.060248</td>\n      <td>0.210772</td>\n      <td>0.091078</td>\n      <td>0.133898</td>\n    </tr>\n    <tr>\n      <th>min</th>\n      <td>0.4717</td>\n      <td>0.3952</td>\n      <td>0.6484</td>\n      <td>0.0</td>\n    </tr>\n    <tr>\n      <th>25%</th>\n      <td>0.5253</td>\n      <td>0.55575</td>\n      <td>0.94555</td>\n      <td>0.3273</td>\n    </tr>\n    <tr>\n      <th>50%</th>\n      <td>0.5806</td>\n      <td>0.6235</td>\n      <td>1.0</td>\n      <td>0.4194</td>\n    </tr>\n    <tr>\n      <th>75%</th>\n      <td>0.6221</td>\n      <td>0.9258</td>\n      <td>1.0</td>\n      <td>0.4747</td>\n    </tr>\n    <tr>\n      <th>max</th>\n      <td>0.6618</td>\n      <td>0.9906</td>\n      <td>1.0</td>\n      <td>0.5283</td>\n    </tr>\n  </tbody>\n</table>\n</div>"
     },
     "execution_count": 37,
     "metadata": {},
     "output_type": "execute_result"
    }
   ],
   "source": [
    "df_06_skipped_norm[\n",
    "    [\"before\", \"worst_rate\", \"best_rate\", \"delta_best_before\"]\n",
    "].describe()"
   ]
  },
  {
   "cell_type": "markdown",
   "metadata": {},
   "source": [
    "## Compare normalised and non normalised"
   ]
  },
  {
   "cell_type": "code",
   "execution_count": 38,
   "metadata": {},
   "outputs": [
    {
     "data": {
      "text/plain": "    before  best_rate\n2  -0.0588    -0.0147\n3  -0.0277     0.0139\n4  -0.1053     0.0132\n5   -0.279        0.0\n6  -0.1647    -0.0118\n7  -0.0575        0.0\n8  -0.1183     0.0215\n9  -0.0769      0.066\n10 -0.0887    -0.0807\n11 -0.2411     0.0089\n13 -0.0708     0.0089\n14 -0.1351        0.0\n15    0.04       0.01\n16 -0.1132        0.0\n17 -0.0971     0.0388",
      "text/html": "<div>\n<style scoped>\n    .dataframe tbody tr th:only-of-type {\n        vertical-align: middle;\n    }\n\n    .dataframe tbody tr th {\n        vertical-align: top;\n    }\n\n    .dataframe thead th {\n        text-align: right;\n    }\n</style>\n<table border=\"1\" class=\"dataframe\">\n  <thead>\n    <tr style=\"text-align: right;\">\n      <th></th>\n      <th>before</th>\n      <th>best_rate</th>\n    </tr>\n  </thead>\n  <tbody>\n    <tr>\n      <th>2</th>\n      <td>-0.0588</td>\n      <td>-0.0147</td>\n    </tr>\n    <tr>\n      <th>3</th>\n      <td>-0.0277</td>\n      <td>0.0139</td>\n    </tr>\n    <tr>\n      <th>4</th>\n      <td>-0.1053</td>\n      <td>0.0132</td>\n    </tr>\n    <tr>\n      <th>5</th>\n      <td>-0.279</td>\n      <td>0.0</td>\n    </tr>\n    <tr>\n      <th>6</th>\n      <td>-0.1647</td>\n      <td>-0.0118</td>\n    </tr>\n    <tr>\n      <th>7</th>\n      <td>-0.0575</td>\n      <td>0.0</td>\n    </tr>\n    <tr>\n      <th>8</th>\n      <td>-0.1183</td>\n      <td>0.0215</td>\n    </tr>\n    <tr>\n      <th>9</th>\n      <td>-0.0769</td>\n      <td>0.066</td>\n    </tr>\n    <tr>\n      <th>10</th>\n      <td>-0.0887</td>\n      <td>-0.0807</td>\n    </tr>\n    <tr>\n      <th>11</th>\n      <td>-0.2411</td>\n      <td>0.0089</td>\n    </tr>\n    <tr>\n      <th>13</th>\n      <td>-0.0708</td>\n      <td>0.0089</td>\n    </tr>\n    <tr>\n      <th>14</th>\n      <td>-0.1351</td>\n      <td>0.0</td>\n    </tr>\n    <tr>\n      <th>15</th>\n      <td>0.04</td>\n      <td>0.01</td>\n    </tr>\n    <tr>\n      <th>16</th>\n      <td>-0.1132</td>\n      <td>0.0</td>\n    </tr>\n    <tr>\n      <th>17</th>\n      <td>-0.0971</td>\n      <td>0.0388</td>\n    </tr>\n  </tbody>\n</table>\n</div>"
     },
     "execution_count": 38,
     "metadata": {},
     "output_type": "execute_result"
    }
   ],
   "source": [
    "(df_06_norm - df_06)[[\"before\", \"best_rate\"]]"
   ]
  },
  {
   "cell_type": "code",
   "execution_count": 39,
   "metadata": {},
   "outputs": [
    {
     "data": {
      "text/plain": "         before  best_rate\ncount      15.0       15.0\nmean   -0.10628   0.004933\nstd    0.078906   0.030998\nmin      -0.279    -0.0807\n25%     -0.1267        0.0\n50%     -0.0971     0.0089\n75%     -0.0648    0.01355\nmax        0.04      0.066",
      "text/html": "<div>\n<style scoped>\n    .dataframe tbody tr th:only-of-type {\n        vertical-align: middle;\n    }\n\n    .dataframe tbody tr th {\n        vertical-align: top;\n    }\n\n    .dataframe thead th {\n        text-align: right;\n    }\n</style>\n<table border=\"1\" class=\"dataframe\">\n  <thead>\n    <tr style=\"text-align: right;\">\n      <th></th>\n      <th>before</th>\n      <th>best_rate</th>\n    </tr>\n  </thead>\n  <tbody>\n    <tr>\n      <th>count</th>\n      <td>15.0</td>\n      <td>15.0</td>\n    </tr>\n    <tr>\n      <th>mean</th>\n      <td>-0.10628</td>\n      <td>0.004933</td>\n    </tr>\n    <tr>\n      <th>std</th>\n      <td>0.078906</td>\n      <td>0.030998</td>\n    </tr>\n    <tr>\n      <th>min</th>\n      <td>-0.279</td>\n      <td>-0.0807</td>\n    </tr>\n    <tr>\n      <th>25%</th>\n      <td>-0.1267</td>\n      <td>0.0</td>\n    </tr>\n    <tr>\n      <th>50%</th>\n      <td>-0.0971</td>\n      <td>0.0089</td>\n    </tr>\n    <tr>\n      <th>75%</th>\n      <td>-0.0648</td>\n      <td>0.01355</td>\n    </tr>\n    <tr>\n      <th>max</th>\n      <td>0.04</td>\n      <td>0.066</td>\n    </tr>\n  </tbody>\n</table>\n</div>"
     },
     "execution_count": 39,
     "metadata": {},
     "output_type": "execute_result"
    }
   ],
   "source": [
    "(df_06_norm - df_06)[[\"before\", \"best_rate\"]].describe()"
   ]
  },
  {
   "cell_type": "code",
   "execution_count": 40,
   "metadata": {},
   "outputs": [
    {
     "data": {
      "text/plain": "    before  best_rate\n2  -0.0441     0.0147\n3      0.0     0.0139\n4  -0.1316     0.0132\n5  -0.2674        0.0\n6  -0.1294    -0.0353\n7   -0.069     0.0115\n8  -0.2043     0.0215\n9  -0.0989    -0.1318\n10 -0.1291    -0.0403\n11 -0.3393     0.0089\n13 -0.0531    -0.0089\n14 -0.2252        0.0\n15     0.0       0.05\n16 -0.3585        0.0\n17 -0.2622     0.0388",
      "text/html": "<div>\n<style scoped>\n    .dataframe tbody tr th:only-of-type {\n        vertical-align: middle;\n    }\n\n    .dataframe tbody tr th {\n        vertical-align: top;\n    }\n\n    .dataframe thead th {\n        text-align: right;\n    }\n</style>\n<table border=\"1\" class=\"dataframe\">\n  <thead>\n    <tr style=\"text-align: right;\">\n      <th></th>\n      <th>before</th>\n      <th>best_rate</th>\n    </tr>\n  </thead>\n  <tbody>\n    <tr>\n      <th>2</th>\n      <td>-0.0441</td>\n      <td>0.0147</td>\n    </tr>\n    <tr>\n      <th>3</th>\n      <td>0.0</td>\n      <td>0.0139</td>\n    </tr>\n    <tr>\n      <th>4</th>\n      <td>-0.1316</td>\n      <td>0.0132</td>\n    </tr>\n    <tr>\n      <th>5</th>\n      <td>-0.2674</td>\n      <td>0.0</td>\n    </tr>\n    <tr>\n      <th>6</th>\n      <td>-0.1294</td>\n      <td>-0.0353</td>\n    </tr>\n    <tr>\n      <th>7</th>\n      <td>-0.069</td>\n      <td>0.0115</td>\n    </tr>\n    <tr>\n      <th>8</th>\n      <td>-0.2043</td>\n      <td>0.0215</td>\n    </tr>\n    <tr>\n      <th>9</th>\n      <td>-0.0989</td>\n      <td>-0.1318</td>\n    </tr>\n    <tr>\n      <th>10</th>\n      <td>-0.1291</td>\n      <td>-0.0403</td>\n    </tr>\n    <tr>\n      <th>11</th>\n      <td>-0.3393</td>\n      <td>0.0089</td>\n    </tr>\n    <tr>\n      <th>13</th>\n      <td>-0.0531</td>\n      <td>-0.0089</td>\n    </tr>\n    <tr>\n      <th>14</th>\n      <td>-0.2252</td>\n      <td>0.0</td>\n    </tr>\n    <tr>\n      <th>15</th>\n      <td>0.0</td>\n      <td>0.05</td>\n    </tr>\n    <tr>\n      <th>16</th>\n      <td>-0.3585</td>\n      <td>0.0</td>\n    </tr>\n    <tr>\n      <th>17</th>\n      <td>-0.2622</td>\n      <td>0.0388</td>\n    </tr>\n  </tbody>\n</table>\n</div>"
     },
     "execution_count": 40,
     "metadata": {},
     "output_type": "execute_result"
    }
   ],
   "source": [
    "(df_06_skipped_norm - df_06_skipped)[[\"before\", \"best_rate\"]]"
   ]
  },
  {
   "cell_type": "code",
   "execution_count": 41,
   "metadata": {},
   "outputs": [
    {
     "data": {
      "text/plain": "         before  best_rate\ncount      15.0       15.0\nmean   -0.15414   -0.00292\nstd    0.116497   0.042641\nmin     -0.3585    -0.1318\n25%     -0.2437   -0.00445\n50%     -0.1294     0.0089\n75%    -0.06105     0.0143\nmax         0.0       0.05",
      "text/html": "<div>\n<style scoped>\n    .dataframe tbody tr th:only-of-type {\n        vertical-align: middle;\n    }\n\n    .dataframe tbody tr th {\n        vertical-align: top;\n    }\n\n    .dataframe thead th {\n        text-align: right;\n    }\n</style>\n<table border=\"1\" class=\"dataframe\">\n  <thead>\n    <tr style=\"text-align: right;\">\n      <th></th>\n      <th>before</th>\n      <th>best_rate</th>\n    </tr>\n  </thead>\n  <tbody>\n    <tr>\n      <th>count</th>\n      <td>15.0</td>\n      <td>15.0</td>\n    </tr>\n    <tr>\n      <th>mean</th>\n      <td>-0.15414</td>\n      <td>-0.00292</td>\n    </tr>\n    <tr>\n      <th>std</th>\n      <td>0.116497</td>\n      <td>0.042641</td>\n    </tr>\n    <tr>\n      <th>min</th>\n      <td>-0.3585</td>\n      <td>-0.1318</td>\n    </tr>\n    <tr>\n      <th>25%</th>\n      <td>-0.2437</td>\n      <td>-0.00445</td>\n    </tr>\n    <tr>\n      <th>50%</th>\n      <td>-0.1294</td>\n      <td>0.0089</td>\n    </tr>\n    <tr>\n      <th>75%</th>\n      <td>-0.06105</td>\n      <td>0.0143</td>\n    </tr>\n    <tr>\n      <th>max</th>\n      <td>0.0</td>\n      <td>0.05</td>\n    </tr>\n  </tbody>\n</table>\n</div>"
     },
     "execution_count": 41,
     "metadata": {},
     "output_type": "execute_result"
    }
   ],
   "source": [
    "(df_06_skipped_norm - df_06_skipped)[[\"before\", \"best_rate\"]].describe()"
   ]
  }
 ],
 "metadata": {
  "kernelspec": {
   "display_name": "Python 3 (ipykernel)",
   "language": "python",
   "name": "python3"
  },
  "language_info": {
   "codemirror_mode": {
    "name": "ipython",
    "version": 3
   },
   "file_extension": ".py",
   "mimetype": "text/x-python",
   "name": "python",
   "nbconvert_exporter": "python",
   "pygments_lexer": "ipython3",
   "version": "3.10.6"
  }
 },
 "nbformat": 4,
 "nbformat_minor": 1
}
