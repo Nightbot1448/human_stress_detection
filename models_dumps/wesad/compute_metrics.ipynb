{
 "cells": [
  {
   "cell_type": "code",
   "execution_count": 7,
   "metadata": {
    "collapsed": true
   },
   "outputs": [],
   "source": [
    "import pickle\n",
    "from pathlib import Path\n",
    "from itertools import product\n",
    "\n",
    "import torch\n",
    "import pandas as pd\n",
    "import matplotlib.pyplot as plt\n",
    "from sklearn import metrics\n",
    "\n",
    "from tqdm.notebook import tqdm\n",
    "from torch.utils.data import DataLoader\n",
    "\n",
    "from ds.wesad.datasets import subjects_data\n",
    "from ds.wesad.datasets_users import SubjectsDataset, SubjectDataset\n",
    "from conv_nets.wesad_tries.models_v2 import get_model"
   ]
  },
  {
   "cell_type": "code",
   "execution_count": 4,
   "metadata": {},
   "outputs": [],
   "source": [
    "data_key = \"rr_intervals\"\n",
    "\n",
    "epoch_count = 50\n",
    "# signal_len = 60\n",
    "ds_step_size = 5\n",
    "test_batch_size = 1\n",
    "device = \"cuda\""
   ]
  },
  {
   "cell_type": "code",
   "execution_count": 5,
   "metadata": {},
   "outputs": [],
   "source": [
    "def predict(model, dl):\n",
    "    \"\"\"Returns y_true, predicted classes and probabilities\"\"\"\n",
    "    model.eval()\n",
    "    y_true = []\n",
    "    y_proba = []\n",
    "    y_pred = []\n",
    "    with torch.no_grad():\n",
    "        for data in tqdm(dl):\n",
    "            inputs, labels = data\n",
    "            y_true.append(labels)\n",
    "            inputs = inputs.to(torch.float32).to(device=device)\n",
    "\n",
    "            outputs = model(inputs).cpu()\n",
    "            y_proba.append(outputs[:, 1])\n",
    "            y_pred.append(outputs.max(1).indices)\n",
    "    return torch.cat(y_true), torch.cat(y_pred), torch.cat(y_proba)"
   ]
  },
  {
   "cell_type": "code",
   "execution_count": 6,
   "metadata": {},
   "outputs": [],
   "source": [
    "def get_metrics(y_true, y_pred, _y_proba=None):\n",
    "    return {\n",
    "        \"accuracy\": metrics.accuracy_score(y_true, y_pred),\n",
    "        \"balanced_accuracy\": metrics.balanced_accuracy_score(y_true, y_pred),\n",
    "        \"precision_score\": metrics.precision_score(y_true, y_pred),\n",
    "        \"recall_score\": metrics.recall_score(y_true, y_pred),\n",
    "        \"f1_score\": metrics.f1_score(y_true, y_pred),\n",
    "        \"roc_auc_score\": metrics.roc_auc_score(y_true, y_pred),\n",
    "        # \"confusion_matrix\": metrics.confusion_matrix(y_true, y_pred),\n",
    "        # precision, recall, thresholds = metrics.precision_recall_curve(y_true, y_proba),\n",
    "        # metrics.average_precision_score(y_true, y_pred),\n",
    "        # fpr, tpr, thresholds_roc = metrics.roc_curve(y_true, y_proba),\n",
    "    }"
   ]
  },
  {
   "cell_type": "markdown",
   "source": [
    "# Modifications"
   ],
   "metadata": {
    "collapsed": false
   }
  },
  {
   "cell_type": "code",
   "execution_count": null,
   "outputs": [],
   "source": [
    "def get_trained_model(\n",
    "    base_path: Path,\n",
    "    signal_len,\n",
    "    reduce_type=\"max\",\n",
    "    numeric_derivative=False,\n",
    "):\n",
    "    Model = get_model(signal_len, reduce_type)\n",
    "    net_with_optim_name = f\"{Model.__name__}_ASGD_lr_1e-06\"\n",
    "    model = Model(numeric_derivative=numeric_derivative).to(device=device)\n",
    "    net_out = base_path.joinpath(\n",
    "        *[*([\"derivative\"] if numeric_derivative else []), net_with_optim_name]\n",
    "    )\n",
    "    best_path = next((net_out / net_with_optim_name).glob(\"*_best.pkl\"))\n",
    "    with open(best_path, \"rb\") as in_:\n",
    "        pickled_data = pickle.load(in_)\n",
    "    model.load_state_dict(pickled_data.get(\"net_state_dict\"))\n",
    "    return model"
   ],
   "metadata": {
    "collapsed": false
   }
  },
  {
   "cell_type": "code",
   "execution_count": null,
   "outputs": [],
   "source": [
    "all_dl = {}\n",
    "for signal_len in (15, 30, 45, 60):\n",
    "    ds = SubjectsDataset(\n",
    "        subjects_data,\n",
    "        ds_type=\"test\",\n",
    "        window_size=signal_len,\n",
    "        step=ds_step_size,\n",
    "        key=data_key,\n",
    "        numeric_derivative=False,\n",
    "    )\n",
    "    ds_der = SubjectsDataset(\n",
    "        subjects_data,\n",
    "        ds_type=\"test\",\n",
    "        window_size=signal_len,\n",
    "        step=ds_step_size,\n",
    "        key=data_key,\n",
    "        numeric_derivative=True,\n",
    "    )\n",
    "    dl = DataLoader(\n",
    "        ds,\n",
    "        batch_size=test_batch_size,\n",
    "        shuffle=False,\n",
    "        num_workers=1,\n",
    "        pin_memory=False,\n",
    "        drop_last=True,\n",
    "    )\n",
    "    dl_der = DataLoader(\n",
    "        ds_der,\n",
    "        batch_size=test_batch_size,\n",
    "        shuffle=False,\n",
    "        num_workers=1,\n",
    "        pin_memory=False,\n",
    "        drop_last=True,\n",
    "    )\n",
    "    all_dl.update({\n",
    "        signal_len: {\"dl\": dl, \"dl_der\": dl_der}\n",
    "    })"
   ],
   "metadata": {
    "collapsed": false
   }
  },
  {
   "cell_type": "code",
   "execution_count": 8,
   "metadata": {},
   "outputs": [
    {
     "data": {
      "text/plain": "0it [00:00, ?it/s]",
      "application/vnd.jupyter.widget-view+json": {
       "version_major": 2,
       "version_minor": 0,
       "model_id": "1eb1dedc140b4b31a5e6ed4543cb2804"
      }
     },
     "metadata": {},
     "output_type": "display_data"
    },
    {
     "data": {
      "text/plain": "  0%|          | 0/1443 [00:00<?, ?it/s]",
      "application/vnd.jupyter.widget-view+json": {
       "version_major": 2,
       "version_minor": 0,
       "model_id": "b37e03b29dfa4ccd98a59a7d948e0951"
      }
     },
     "metadata": {},
     "output_type": "display_data"
    },
    {
     "data": {
      "text/plain": "  0%|          | 0/1443 [00:00<?, ?it/s]",
      "application/vnd.jupyter.widget-view+json": {
       "version_major": 2,
       "version_minor": 0,
       "model_id": "e4b4d6e77ab541dd97722af3d5092cdd"
      }
     },
     "metadata": {},
     "output_type": "display_data"
    },
    {
     "data": {
      "text/plain": "  0%|          | 0/1443 [00:00<?, ?it/s]",
      "application/vnd.jupyter.widget-view+json": {
       "version_major": 2,
       "version_minor": 0,
       "model_id": "f8849432bdf8441dabbdd583770a889d"
      }
     },
     "metadata": {},
     "output_type": "display_data"
    },
    {
     "data": {
      "text/plain": "  0%|          | 0/1443 [00:00<?, ?it/s]",
      "application/vnd.jupyter.widget-view+json": {
       "version_major": 2,
       "version_minor": 0,
       "model_id": "809694eb7071466880b972cd58e0d9d0"
      }
     },
     "metadata": {},
     "output_type": "display_data"
    },
    {
     "data": {
      "text/plain": "  0%|          | 0/1443 [00:00<?, ?it/s]",
      "application/vnd.jupyter.widget-view+json": {
       "version_major": 2,
       "version_minor": 0,
       "model_id": "fb4d05eb0b7c48258f01e4bfaab8873f"
      }
     },
     "metadata": {},
     "output_type": "display_data"
    },
    {
     "data": {
      "text/plain": "  0%|          | 0/1443 [00:00<?, ?it/s]",
      "application/vnd.jupyter.widget-view+json": {
       "version_major": 2,
       "version_minor": 0,
       "model_id": "4ab4ef5a578b49d1bf670c7f450b1d4d"
      }
     },
     "metadata": {},
     "output_type": "display_data"
    },
    {
     "data": {
      "text/plain": "  0%|          | 0/1427 [00:00<?, ?it/s]",
      "application/vnd.jupyter.widget-view+json": {
       "version_major": 2,
       "version_minor": 0,
       "model_id": "5d16fca928e34eb1875fb5bbea542baa"
      }
     },
     "metadata": {},
     "output_type": "display_data"
    },
    {
     "data": {
      "text/plain": "  0%|          | 0/1427 [00:00<?, ?it/s]",
      "application/vnd.jupyter.widget-view+json": {
       "version_major": 2,
       "version_minor": 0,
       "model_id": "aea3478ab707404d8022554113e08a7e"
      }
     },
     "metadata": {},
     "output_type": "display_data"
    },
    {
     "data": {
      "text/plain": "  0%|          | 0/1427 [00:00<?, ?it/s]",
      "application/vnd.jupyter.widget-view+json": {
       "version_major": 2,
       "version_minor": 0,
       "model_id": "4883301e0de041edb602e55d5b8ff3f9"
      }
     },
     "metadata": {},
     "output_type": "display_data"
    },
    {
     "data": {
      "text/plain": "  0%|          | 0/1427 [00:00<?, ?it/s]",
      "application/vnd.jupyter.widget-view+json": {
       "version_major": 2,
       "version_minor": 0,
       "model_id": "4e91c7fa34fc41a7be8eda004260f8ff"
      }
     },
     "metadata": {},
     "output_type": "display_data"
    },
    {
     "data": {
      "text/plain": "  0%|          | 0/1427 [00:00<?, ?it/s]",
      "application/vnd.jupyter.widget-view+json": {
       "version_major": 2,
       "version_minor": 0,
       "model_id": "b407fbcb72a94a5381fe2a356a08df1a"
      }
     },
     "metadata": {},
     "output_type": "display_data"
    },
    {
     "data": {
      "text/plain": "  0%|          | 0/1427 [00:00<?, ?it/s]",
      "application/vnd.jupyter.widget-view+json": {
       "version_major": 2,
       "version_minor": 0,
       "model_id": "d3735b08cf1144fcbb17eaa26346a3b9"
      }
     },
     "metadata": {},
     "output_type": "display_data"
    },
    {
     "data": {
      "text/plain": "  0%|          | 0/1407 [00:00<?, ?it/s]",
      "application/vnd.jupyter.widget-view+json": {
       "version_major": 2,
       "version_minor": 0,
       "model_id": "59b68fbb302d4e9290d889e627cbb152"
      }
     },
     "metadata": {},
     "output_type": "display_data"
    },
    {
     "data": {
      "text/plain": "  0%|          | 0/1407 [00:00<?, ?it/s]",
      "application/vnd.jupyter.widget-view+json": {
       "version_major": 2,
       "version_minor": 0,
       "model_id": "30be553b273540f48426ab617bf58ad4"
      }
     },
     "metadata": {},
     "output_type": "display_data"
    },
    {
     "data": {
      "text/plain": "  0%|          | 0/1407 [00:00<?, ?it/s]",
      "application/vnd.jupyter.widget-view+json": {
       "version_major": 2,
       "version_minor": 0,
       "model_id": "1ce420d17ab841ae8eeb2335998e59db"
      }
     },
     "metadata": {},
     "output_type": "display_data"
    },
    {
     "data": {
      "text/plain": "  0%|          | 0/1407 [00:00<?, ?it/s]",
      "application/vnd.jupyter.widget-view+json": {
       "version_major": 2,
       "version_minor": 0,
       "model_id": "8fd65eca61de43ae8105a9f113d02161"
      }
     },
     "metadata": {},
     "output_type": "display_data"
    },
    {
     "data": {
      "text/plain": "  0%|          | 0/1407 [00:00<?, ?it/s]",
      "application/vnd.jupyter.widget-view+json": {
       "version_major": 2,
       "version_minor": 0,
       "model_id": "ad6cbbbac657483cb365b45178714944"
      }
     },
     "metadata": {},
     "output_type": "display_data"
    },
    {
     "data": {
      "text/plain": "  0%|          | 0/1407 [00:00<?, ?it/s]",
      "application/vnd.jupyter.widget-view+json": {
       "version_major": 2,
       "version_minor": 0,
       "model_id": "3adb93ab086342bf8d607af1d15909ae"
      }
     },
     "metadata": {},
     "output_type": "display_data"
    },
    {
     "data": {
      "text/plain": "  0%|          | 0/1390 [00:00<?, ?it/s]",
      "application/vnd.jupyter.widget-view+json": {
       "version_major": 2,
       "version_minor": 0,
       "model_id": "9a7a710821ae46e1a8ee5b02f5cbfdc0"
      }
     },
     "metadata": {},
     "output_type": "display_data"
    },
    {
     "data": {
      "text/plain": "  0%|          | 0/1390 [00:00<?, ?it/s]",
      "application/vnd.jupyter.widget-view+json": {
       "version_major": 2,
       "version_minor": 0,
       "model_id": "04768667b6df4a369a49f3ef026e5d77"
      }
     },
     "metadata": {},
     "output_type": "display_data"
    },
    {
     "data": {
      "text/plain": "  0%|          | 0/1390 [00:00<?, ?it/s]",
      "application/vnd.jupyter.widget-view+json": {
       "version_major": 2,
       "version_minor": 0,
       "model_id": "14cf32cdd0af4f3f82193f403931f7b8"
      }
     },
     "metadata": {},
     "output_type": "display_data"
    },
    {
     "data": {
      "text/plain": "  0%|          | 0/1390 [00:00<?, ?it/s]",
      "application/vnd.jupyter.widget-view+json": {
       "version_major": 2,
       "version_minor": 0,
       "model_id": "c435ed3ed387460eb77bc92983db8a2c"
      }
     },
     "metadata": {},
     "output_type": "display_data"
    },
    {
     "data": {
      "text/plain": "  0%|          | 0/1390 [00:00<?, ?it/s]",
      "application/vnd.jupyter.widget-view+json": {
       "version_major": 2,
       "version_minor": 0,
       "model_id": "47ee7c7177f04fa1996469948b53fff7"
      }
     },
     "metadata": {},
     "output_type": "display_data"
    },
    {
     "data": {
      "text/plain": "  0%|          | 0/1390 [00:00<?, ?it/s]",
      "application/vnd.jupyter.widget-view+json": {
       "version_major": 2,
       "version_minor": 0,
       "model_id": "bf54ab2473384718bb336071fc8b204f"
      }
     },
     "metadata": {},
     "output_type": "display_data"
    }
   ],
   "source": [
    "base_path = Path(\"steps\")\n",
    "nets_results = {}\n",
    "for sig_len, r_type, num_der in tqdm(product(all_dl.keys(), (\"conv\", \"avg\", \"max\"), (True, False))):\n",
    "    dl = all_dl.get(sig_len).get(f\"dl{'_der' if num_der else ''}\")\n",
    "    model = get_trained_model(\n",
    "        base_path, sig_len, reduce_type=r_type.lower(), numeric_derivative=num_der\n",
    "    )\n",
    "    y_true, y_pred, y_proba = predict(model, dl)\n",
    "    nets_results[(sig_len, num_der, r_type)] = get_metrics(y_true, y_pred, y_proba)"
   ]
  },
  {
   "cell_type": "code",
   "execution_count": 31,
   "outputs": [],
   "source": [
    "nets_results = {(k[0], k[2], k[1]): v for k, v in nets_results.items()}"
   ],
   "metadata": {
    "collapsed": false
   }
  },
  {
   "cell_type": "code",
   "execution_count": 44,
   "metadata": {},
   "outputs": [],
   "source": [
    "df = pd.DataFrame.from_dict(dict(sorted(nets_results.items()))).T"
   ]
  },
  {
   "cell_type": "code",
   "execution_count": 75,
   "outputs": [
    {
     "data": {
      "text/plain": "<Figure size 2400x1600 with 6 Axes>",
      "image/png": "[encoded data removed]"
     },
     "metadata": {},
     "output_type": "display_data"
    }
   ],
   "source": [
    "axes = df.loc[[45, 60]].plot.bar(\n",
    "    subplots=True,\n",
    "    layout=(2, 3),\n",
    "    figsize=(24, 16),\n",
    "    fontsize=14,\n",
    "    ylim=(0.85, 1.0),\n",
    ")\n",
    "plt.tight_layout()"
   ],
   "metadata": {
    "collapsed": false
   }
  },
  {
   "cell_type": "markdown",
   "source": [
    "# Best skip users metrics"
   ],
   "metadata": {
    "collapsed": false
   }
  },
  {
   "cell_type": "code",
   "execution_count": 19,
   "outputs": [],
   "source": [
    "def get_personalised_trained_model(\n",
    "    base_path: Path,\n",
    "    signal_len: int,\n",
    "    subject: int,\n",
    "    reduce_type=\"max\",\n",
    "    numeric_derivative=False,\n",
    "):\n",
    "    Model = get_model(signal_len, reduce_type)\n",
    "    net_with_optim_name = f\"{Model.__name__}_ASGD_lr_1e-06\"\n",
    "    model = Model(numeric_derivative=numeric_derivative).to(device=device)\n",
    "    net_out = base_path.joinpath(\n",
    "        *[\n",
    "            *([\"derivative\"] if numeric_derivative else []),\n",
    "            \"skip_users\",\n",
    "            net_with_optim_name\n",
    "        ]\n",
    "    )\n",
    "    subj_net_path = (net_out / f\"subj_{subject}_{net_with_optim_name}\")\n",
    "    best_path = next(subj_net_path.glob(\"*_best.pkl\"))\n",
    "    with open(best_path, \"rb\") as in_:\n",
    "        pickled_data = pickle.load(in_)\n",
    "    model.load_state_dict(pickled_data.get(\"net_state_dict\"))\n",
    "    return model"
   ],
   "metadata": {
    "collapsed": false
   }
  },
  {
   "cell_type": "code",
   "execution_count": 20,
   "outputs": [
    {
     "data": {
      "text/plain": "  0%|          | 0/15 [00:00<?, ?it/s]",
      "application/vnd.jupyter.widget-view+json": {
       "version_major": 2,
       "version_minor": 0,
       "model_id": "3f889e6384044654a6f78de7b558ef64"
      }
     },
     "metadata": {},
     "output_type": "display_data"
    },
    {
     "data": {
      "text/plain": "  0%|          | 0/109 [00:00<?, ?it/s]",
      "application/vnd.jupyter.widget-view+json": {
       "version_major": 2,
       "version_minor": 0,
       "model_id": "a445ceaace894b6ead7cb609d4b4a22e"
      }
     },
     "metadata": {},
     "output_type": "display_data"
    },
    {
     "data": {
      "text/plain": "  0%|          | 0/66 [00:00<?, ?it/s]",
      "application/vnd.jupyter.widget-view+json": {
       "version_major": 2,
       "version_minor": 0,
       "model_id": "0522145be360486b8009bdce6195a78a"
      }
     },
     "metadata": {},
     "output_type": "display_data"
    },
    {
     "data": {
      "text/plain": "  0%|          | 0/110 [00:00<?, ?it/s]",
      "application/vnd.jupyter.widget-view+json": {
       "version_major": 2,
       "version_minor": 0,
       "model_id": "80881bf2afd04ed093e40c9186a1c262"
      }
     },
     "metadata": {},
     "output_type": "display_data"
    },
    {
     "data": {
      "text/plain": "  0%|          | 0/121 [00:00<?, ?it/s]",
      "application/vnd.jupyter.widget-view+json": {
       "version_major": 2,
       "version_minor": 0,
       "model_id": "d13d156d94a1404a9852905ac81e01b5"
      }
     },
     "metadata": {},
     "output_type": "display_data"
    },
    {
     "data": {
      "text/plain": "  0%|          | 0/90 [00:00<?, ?it/s]",
      "application/vnd.jupyter.widget-view+json": {
       "version_major": 2,
       "version_minor": 0,
       "model_id": "73b5067d051c4098aabec3d7595ea05c"
      }
     },
     "metadata": {},
     "output_type": "display_data"
    },
    {
     "data": {
      "text/plain": "  0%|          | 0/110 [00:00<?, ?it/s]",
      "application/vnd.jupyter.widget-view+json": {
       "version_major": 2,
       "version_minor": 0,
       "model_id": "4f9e965f69854a75b36b2804a0afd47b"
      }
     },
     "metadata": {},
     "output_type": "display_data"
    },
    {
     "data": {
      "text/plain": "  0%|          | 0/98 [00:00<?, ?it/s]",
      "application/vnd.jupyter.widget-view+json": {
       "version_major": 2,
       "version_minor": 0,
       "model_id": "9584de3aa2624f7b9693ac1dc14e1a23"
      }
     },
     "metadata": {},
     "output_type": "display_data"
    },
    {
     "data": {
      "text/plain": "  0%|          | 0/104 [00:00<?, ?it/s]",
      "application/vnd.jupyter.widget-view+json": {
       "version_major": 2,
       "version_minor": 0,
       "model_id": "2a57a7716b6044d382e4ac1873140e1c"
      }
     },
     "metadata": {},
     "output_type": "display_data"
    },
    {
     "data": {
      "text/plain": "  0%|          | 0/74 [00:00<?, ?it/s]",
      "application/vnd.jupyter.widget-view+json": {
       "version_major": 2,
       "version_minor": 0,
       "model_id": "a7ff087ec2ef4e168c990e0e7347ff1f"
      }
     },
     "metadata": {},
     "output_type": "display_data"
    },
    {
     "data": {
      "text/plain": "  0%|          | 0/70 [00:00<?, ?it/s]",
      "application/vnd.jupyter.widget-view+json": {
       "version_major": 2,
       "version_minor": 0,
       "model_id": "d68837cc65e542de8cbfc3db5e07599b"
      }
     },
     "metadata": {},
     "output_type": "display_data"
    },
    {
     "data": {
      "text/plain": "  0%|          | 0/83 [00:00<?, ?it/s]",
      "application/vnd.jupyter.widget-view+json": {
       "version_major": 2,
       "version_minor": 0,
       "model_id": "5e580688bc094923803bd268a893e535"
      }
     },
     "metadata": {},
     "output_type": "display_data"
    },
    {
     "data": {
      "text/plain": "  0%|          | 0/84 [00:00<?, ?it/s]",
      "application/vnd.jupyter.widget-view+json": {
       "version_major": 2,
       "version_minor": 0,
       "model_id": "e1504a4a720d4589ae15fe58976e8693"
      }
     },
     "metadata": {},
     "output_type": "display_data"
    },
    {
     "data": {
      "text/plain": "  0%|          | 0/100 [00:00<?, ?it/s]",
      "application/vnd.jupyter.widget-view+json": {
       "version_major": 2,
       "version_minor": 0,
       "model_id": "bbc37c9484c9459898f308ae4cdfa346"
      }
     },
     "metadata": {},
     "output_type": "display_data"
    },
    {
     "data": {
      "text/plain": "  0%|          | 0/88 [00:00<?, ?it/s]",
      "application/vnd.jupyter.widget-view+json": {
       "version_major": 2,
       "version_minor": 0,
       "model_id": "00052095f70a4b32b743a0273ab0980b"
      }
     },
     "metadata": {},
     "output_type": "display_data"
    },
    {
     "data": {
      "text/plain": "  0%|          | 0/83 [00:00<?, ?it/s]",
      "application/vnd.jupyter.widget-view+json": {
       "version_major": 2,
       "version_minor": 0,
       "model_id": "5e7f8c8eae694bc6933d8256d8586775"
      }
     },
     "metadata": {},
     "output_type": "display_data"
    }
   ],
   "source": [
    "personalised_nets_results = {}\n",
    "best_reduce_type = \"avg\"\n",
    "best_num_der = True\n",
    "for subj_id, subj_data in tqdm(subjects_data.items()):\n",
    "    ds_subj = SubjectDataset(\n",
    "        subj_data,\n",
    "        step=ds_step_size,\n",
    "        window_size=60,\n",
    "        numeric_derivative=best_num_der,\n",
    "        ds_type=\"test\"\n",
    "    )\n",
    "    dl_subj = DataLoader(\n",
    "        ds_subj,\n",
    "        batch_size=test_batch_size,\n",
    "        shuffle=False,\n",
    "        num_workers=1,\n",
    "        drop_last=True,\n",
    "    )\n",
    "    base_path = Path(\"subjects_related\")\n",
    "    model = get_personalised_trained_model(\n",
    "        base_path,\n",
    "        60,\n",
    "        subj_id,\n",
    "        reduce_type=best_reduce_type,\n",
    "        numeric_derivative=best_num_der,\n",
    "    )\n",
    "    y_true, y_pred, y_proba = predict(model, dl_subj)\n",
    "    personalised_nets_results[subj_id] = get_metrics(y_true, y_pred, y_proba)"
   ],
   "metadata": {
    "collapsed": false
   }
  },
  {
   "cell_type": "code",
   "execution_count": 27,
   "outputs": [
    {
     "data": {
      "text/plain": "',accuracy,balanced_accuracy,precision_score,recall_score,f1_score,roc_auc_score\\n2,0.955,0.932,1.0,0.864,0.927,0.932\\n3,1.0,1.0,1.0,1.0,1.0,1.0\\n4,1.0,1.0,1.0,1.0,1.0,1.0\\n5,1.0,1.0,1.0,1.0,1.0,1.0\\n6,1.0,1.0,1.0,1.0,1.0,1.0\\n7,1.0,1.0,1.0,1.0,1.0,1.0\\n8,1.0,1.0,1.0,1.0,1.0,1.0\\n9,0.909,0.886,0.926,0.806,0.862,0.886\\n10,0.967,0.958,1.0,0.917,0.957,0.958\\n11,1.0,1.0,1.0,1.0,1.0,1.0\\n13,1.0,1.0,1.0,1.0,1.0,1.0\\n14,1.0,1.0,1.0,1.0,1.0,1.0\\n15,1.0,1.0,1.0,1.0,1.0,1.0\\n16,1.0,1.0,1.0,1.0,1.0,1.0\\n17,1.0,1.0,1.0,1.0,1.0,1.0\\n'"
     },
     "execution_count": 27,
     "metadata": {},
     "output_type": "execute_result"
    }
   ],
   "source": [
    "pd.DataFrame.from_dict(dict(sorted(personalised_nets_results.items()))).T.round(3).to_csv()"
   ],
   "metadata": {
    "collapsed": false
   }
  },
  {
   "cell_type": "markdown",
   "metadata": {},
   "source": [
    "# Check metrics"
   ]
  },
  {
   "cell_type": "code",
   "execution_count": null,
   "metadata": {},
   "outputs": [],
   "source": [
    "model = get_trained_model(base_path, 60)\n",
    "dl = all_dl.get(60).get(\"dl\")"
   ]
  },
  {
   "cell_type": "code",
   "execution_count": null,
   "metadata": {},
   "outputs": [],
   "source": [
    "y_true, y_pred, y_proba = predict(model, dl)"
   ]
  },
  {
   "cell_type": "code",
   "execution_count": null,
   "metadata": {},
   "outputs": [],
   "source": [
    "acc = metrics.accuracy_score(y_true, y_pred)\n",
    "acc"
   ]
  },
  {
   "cell_type": "code",
   "execution_count": null,
   "metadata": {},
   "outputs": [],
   "source": [
    "balanced_acc = metrics.balanced_accuracy_score(y_true, y_pred)\n",
    "balanced_acc"
   ]
  },
  {
   "cell_type": "code",
   "execution_count": null,
   "metadata": {},
   "outputs": [],
   "source": [
    "conf_matrix = metrics.confusion_matrix(y_true, y_pred)\n",
    "disp = metrics.ConfusionMatrixDisplay(confusion_matrix=conf_matrix)\n",
    "disp.plot()\n",
    "plt.show()"
   ]
  },
  {
   "cell_type": "code",
   "execution_count": null,
   "metadata": {},
   "outputs": [],
   "source": [
    "precision, recall, thresholds = metrics.precision_recall_curve(y_true, y_proba)\n",
    "disp = metrics.PrecisionRecallDisplay(precision=precision, recall=recall)\n",
    "disp.plot()\n",
    "plt.show()"
   ]
  },
  {
   "cell_type": "code",
   "execution_count": null,
   "metadata": {},
   "outputs": [],
   "source": [
    "metrics.average_precision_score(y_true, y_pred)"
   ]
  },
  {
   "cell_type": "code",
   "execution_count": null,
   "metadata": {},
   "outputs": [],
   "source": [
    "metrics.precision_score(y_true, y_pred)"
   ]
  },
  {
   "cell_type": "code",
   "execution_count": null,
   "metadata": {},
   "outputs": [],
   "source": [
    "metrics.recall_score(y_true, y_pred)"
   ]
  },
  {
   "cell_type": "code",
   "execution_count": null,
   "metadata": {},
   "outputs": [],
   "source": [
    "metrics.f1_score(y_true, y_pred)"
   ]
  },
  {
   "cell_type": "code",
   "execution_count": null,
   "outputs": [],
   "source": [
    "metrics.fbeta_score(y_true, y_pred, beta=2)"
   ],
   "metadata": {
    "collapsed": false
   }
  },
  {
   "cell_type": "code",
   "execution_count": null,
   "metadata": {},
   "outputs": [],
   "source": [
    "roc_auc_score = metrics.roc_auc_score(y_true, y_pred)\n",
    "roc_auc_score"
   ]
  },
  {
   "cell_type": "code",
   "execution_count": null,
   "metadata": {},
   "outputs": [],
   "source": [
    "fpr, tpr, thresholds_roc = metrics.roc_curve(y_true, y_proba)"
   ]
  },
  {
   "cell_type": "code",
   "execution_count": null,
   "metadata": {},
   "outputs": [],
   "source": [
    "disp = metrics.RocCurveDisplay(fpr=fpr, tpr=tpr, roc_auc=roc_auc_score)\n",
    "disp.plot()\n",
    "plt.show()"
   ]
  },
  {
   "cell_type": "code",
   "execution_count": null,
   "metadata": {},
   "outputs": [],
   "source": []
  }
 ],
 "metadata": {
  "kernelspec": {
   "display_name": "Python 3 (ipykernel)",
   "language": "python",
   "name": "python3"
  },
  "language_info": {
   "codemirror_mode": {
    "name": "ipython",
    "version": 3
   },
   "file_extension": ".py",
   "mimetype": "text/x-python",
   "name": "python",
   "nbconvert_exporter": "python",
   "pygments_lexer": "ipython3",
   "version": "3.10.6"
  }
 },
 "nbformat": 4,
 "nbformat_minor": 1
}
