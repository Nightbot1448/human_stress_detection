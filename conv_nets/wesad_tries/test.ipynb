{
 "cells": [
  {
   "cell_type": "code",
   "execution_count": 1,
   "outputs": [],
   "source": [
    "import sys\n",
    "import random\n",
    "import pickle\n",
    "from pathlib import Path\n",
    "\n",
    "import numpy as np\n",
    "\n",
    "import torch\n",
    "import torch.nn as nn\n",
    "import torch.optim as optim\n",
    "from torch.utils.data import DataLoader\n",
    "from torch.utils.tensorboard import SummaryWriter\n",
    "from tqdm import tqdm, trange"
   ],
   "metadata": {
    "collapsed": false
   }
  },
  {
   "cell_type": "code",
   "execution_count": 2,
   "metadata": {},
   "outputs": [],
   "source": [
    "from ds.wesad.datasets import subjects_data\n",
    "from ds.wesad.datasets_users import SubjectDataset, SubjectsDataset"
   ]
  },
  {
   "cell_type": "code",
   "execution_count": 3,
   "metadata": {},
   "outputs": [],
   "source": [
    "numeric_derivative = True"
   ]
  },
  {
   "cell_type": "code",
   "execution_count": 8,
   "metadata": {},
   "outputs": [],
   "source": [
    "ds_15_train = SubjectsDataset(\n",
    "    subjects_data,\n",
    "    ds_type=\"train\",\n",
    "    window_size=15,\n",
    "    step=5,\n",
    "    numeric_derivative=numeric_derivative,\n",
    ")"
   ]
  },
  {
   "cell_type": "code",
   "execution_count": 9,
   "metadata": {},
   "outputs": [],
   "source": [
    "dl_15 = DataLoader(\n",
    "    ds_15_train,\n",
    "    batch_size=2,\n",
    "    shuffle=True,\n",
    "    num_workers=1,\n",
    "    pin_memory=False,\n",
    "    drop_last=True,\n",
    ")"
   ]
  },
  {
   "cell_type": "code",
   "execution_count": 10,
   "outputs": [],
   "source": [
    "ds_60_train = SubjectsDataset(\n",
    "    subjects_data,\n",
    "    ds_type=\"train\",\n",
    "    window_size=60,\n",
    "    step=5,\n",
    "    numeric_derivative=numeric_derivative,\n",
    ")"
   ],
   "metadata": {
    "collapsed": false
   }
  },
  {
   "cell_type": "code",
   "execution_count": 11,
   "outputs": [],
   "source": [
    "dl_60 = DataLoader(\n",
    "    ds_60_train,\n",
    "    batch_size=2,\n",
    "    shuffle=True,\n",
    "    num_workers=1,\n",
    "    pin_memory=False,\n",
    "    drop_last=True,\n",
    ")"
   ],
   "metadata": {
    "collapsed": false
   }
  },
  {
   "cell_type": "code",
   "execution_count": 12,
   "metadata": {},
   "outputs": [],
   "source": [
    "in_15 = next(iter(dl_15))\n",
    "in_sig_15 = in_15[0].to(torch.float32)\n",
    "in_60 = next(iter(dl_60))\n",
    "in_sig_60 = in_60[0].to(torch.float32)"
   ]
  },
  {
   "cell_type": "code",
   "execution_count": 13,
   "metadata": {},
   "outputs": [
    {
     "data": {
      "text/plain": "(torch.Size([2, 2, 15]), torch.Size([2, 2, 60]))"
     },
     "execution_count": 13,
     "metadata": {},
     "output_type": "execute_result"
    }
   ],
   "source": [
    "in_sig_15.shape, in_sig_60.shape"
   ]
  },
  {
   "cell_type": "code",
   "execution_count": 16,
   "metadata": {},
   "outputs": [],
   "source": [
    "from conv_nets.wesad_tries.models.modules.conv_x import ConvX\n",
    "from conv_nets.wesad_tries.models_v2 import get_model"
   ]
  },
  {
   "cell_type": "code",
   "execution_count": 17,
   "outputs": [],
   "source": [
    "Model = get_model(60)"
   ],
   "metadata": {
    "collapsed": false
   }
  },
  {
   "cell_type": "code",
   "execution_count": 18,
   "outputs": [
    {
     "data": {
      "text/plain": "tensor([[0.5432, 0.4568],\n        [0.3106, 0.6894]], grad_fn=<SoftmaxBackward0>)"
     },
     "execution_count": 18,
     "metadata": {},
     "output_type": "execute_result"
    }
   ],
   "source": [
    "n_c_60 = Model(numeric_derivative=numeric_derivative)\n",
    "n_c_60(in_sig_60)"
   ],
   "metadata": {
    "collapsed": false
   }
  },
  {
   "cell_type": "code",
   "execution_count": 71,
   "outputs": [],
   "source": [
    "def init_15(self, numeric_derivative: bool = False, reduce_cls=nn.Conv1d):\n",
    "    super().__init__()\n",
    "    in_channels = 2 if numeric_derivative else 1\n",
    "    self.seq = nn.Sequential(\n",
    "        ConvX(in_channels, 4, kernel=3),\n",
    "        ConvX(4, 8, kernel=3),\n",
    "        ConvX(8, 16, kernel=3),\n",
    "        get_reduce(reduce_cls, 8, kernel_size=2, stride=2),\n",
    "        ConvX(16, 32, kernel=3),\n",
    "        ConvX(32, 16, kernel=3),\n",
    "        ConvX(16, 8, kernel=3),\n",
    "        get_reduce(reduce_cls, 8, kernel_size=1, stride=2),\n",
    "        ConvX(8, 4, kernel=3),\n",
    "        ConvX(4, 2, kernel=3),\n",
    "        nn.Conv1d(2, 2, kernel_size=2, stride=2),\n",
    "    )\n",
    "    self.softmax = nn.Softmax(dim=-1)\n",
    "\n",
    "\n",
    "def forward(self, x):\n",
    "    x = self.seq(x)\n",
    "    x = torch.flatten(x, 1)\n",
    "    return self.softmax(x)"
   ],
   "metadata": {
    "collapsed": false
   }
  },
  {
   "cell_type": "code",
   "execution_count": 72,
   "outputs": [],
   "source": [
    "def get_net(signal_len, reduce_cls: Type[nn.Module]):\n",
    "    if reduce_cls not in (nn.Conv1d, nn.MaxPool1d, nn.AvgPool1d):\n",
    "        raise ValueError(\"Unexpected type\")\n",
    "\n",
    "    init_mapping = {15: partial(init_15, reduce_cls=reduce_cls)}\n",
    "    net_cls_name = f\"NetUpDownCoder3_{reduce_cls.__name__[:-2]}_{signal_len}\"\n",
    "\n",
    "    return type(\n",
    "        net_cls_name,\n",
    "        (nn.Module,),\n",
    "        {\"__init__\": init_mapping[signal_len], \"forward\": forward},\n",
    "    )"
   ],
   "metadata": {
    "collapsed": false
   }
  },
  {
   "cell_type": "code",
   "execution_count": 73,
   "outputs": [],
   "source": [
    "reduce_cls = nn.Conv1d\n",
    "signal_len = 15\n",
    "net_cls_name = f\"NetUpDownCoder3_{reduce_cls.__name__[:-2]}_{signal_len}\""
   ],
   "metadata": {
    "collapsed": false
   }
  },
  {
   "cell_type": "code",
   "execution_count": 74,
   "outputs": [],
   "source": [
    "t = type(net_cls_name, (nn.Module,), {\"__init__\": init_15, \"forward\": forward})"
   ],
   "metadata": {
    "collapsed": false
   }
  },
  {
   "cell_type": "code",
   "execution_count": 60,
   "outputs": [],
   "source": [
    "r = partial(init_15, reduce_cls=nn.Conv1d)(nn.Module())"
   ],
   "metadata": {
    "collapsed": false
   }
  },
  {
   "cell_type": "code",
   "execution_count": 62,
   "outputs": [
    {
     "data": {
      "text/plain": "NoneType"
     },
     "execution_count": 62,
     "metadata": {},
     "output_type": "execute_result"
    }
   ],
   "source": [],
   "metadata": {
    "collapsed": false
   }
  },
  {
   "cell_type": "code",
   "execution_count": 38,
   "metadata": {},
   "outputs": [],
   "source": [
    "class NetUpDownCoder3_15(nn.Module):\n",
    "    def __init__(self, numeric_derivative: bool = False):\n",
    "        super().__init__()\n",
    "        # NetUpDownCoder3_15, self\n",
    "        in_channels = 2 if numeric_derivative else 1\n",
    "        self.seq = torch.nn.Sequential(\n",
    "            ConvX(in_channels, 4, kernel=3),\n",
    "            ConvX(4, 8, kernel=3),\n",
    "            nn.Conv1d(8, 8, kernel_size=1, stride=2),\n",
    "            ConvX(8, 16, kernel=3),\n",
    "            ConvX(16, 32, kernel=3),\n",
    "            nn.Conv1d(32, 32, kernel_size=2, stride=2),\n",
    "            ConvX(32, 16, kernel=3),\n",
    "            ConvX(16, 8, kernel=3),\n",
    "            nn.Conv1d(8, 8, kernel_size=1, stride=2),\n",
    "            ConvX(8, 4, kernel=3),\n",
    "            ConvX(4, 2, kernel=3),\n",
    "            nn.Conv1d(2, 2, kernel_size=2, stride=2),\n",
    "        )\n",
    "        self.softmax = nn.Softmax(dim=-1)\n",
    "\n",
    "    def forward(self, x):\n",
    "        x = self.seq(x)\n",
    "        x = torch.flatten(x, 1)\n",
    "        return self.softmax(x)"
   ]
  },
  {
   "cell_type": "code",
   "execution_count": 41,
   "metadata": {},
   "outputs": [],
   "source": [
    "net = NetUpDownCoder3_15(numeric_derivative=numeric_derivative)"
   ]
  },
  {
   "cell_type": "code",
   "execution_count": 42,
   "metadata": {},
   "outputs": [
    {
     "data": {
      "text/plain": "torch.Size([2, 2])"
     },
     "execution_count": 42,
     "metadata": {},
     "output_type": "execute_result"
    }
   ],
   "source": [
    "net(in_sig_15).shape"
   ]
  },
  {
   "cell_type": "code",
   "execution_count": 36,
   "metadata": {},
   "outputs": [
    {
     "data": {
      "text/plain": [
       "torch.Size([2, 2, 1])"
      ]
     },
     "execution_count": 36,
     "metadata": {},
     "output_type": "execute_result"
    }
   ],
   "source": []
  },
  {
   "cell_type": "code",
   "execution_count": 143,
   "metadata": {},
   "outputs": [],
   "source": [
    "criterion = nn.CrossEntropyLoss()"
   ]
  },
  {
   "cell_type": "code",
   "execution_count": 149,
   "metadata": {},
   "outputs": [
    {
     "data": {
      "text/plain": [
       "tensor(0.7126, grad_fn=<NllLossBackward0>)"
      ]
     },
     "execution_count": 149,
     "metadata": {},
     "output_type": "execute_result"
    }
   ],
   "source": [
    "criterion(net(in_sig_15), in_[1])"
   ]
  },
  {
   "cell_type": "code",
   "execution_count": 60,
   "metadata": {},
   "outputs": [],
   "source": [
    "conv = nn.Conv1d(2, 1, kernel_size=3)"
   ]
  },
  {
   "cell_type": "code",
   "execution_count": 113,
   "metadata": {},
   "outputs": [],
   "source": [
    "in_sig_15_2 = torch.reshape(\n",
    "    torch.tensor(\n",
    "        [1, 2, 3, 4, 2, 3, 4, 5, 0, 1, 2, 3, 1, 2, 3, 4], dtype=torch.float32\n",
    "    ),\n",
    "    (2, 2, 4),\n",
    ")"
   ]
  },
  {
   "cell_type": "code",
   "execution_count": 114,
   "metadata": {},
   "outputs": [
    {
     "data": {
      "text/plain": [
       "Parameter containing:\n",
       "tensor([[[0., 1.],\n",
       "         [1., 2.]]], requires_grad=True)"
      ]
     },
     "execution_count": 114,
     "metadata": {},
     "output_type": "execute_result"
    }
   ],
   "source": [
    "conv = nn.Conv1d(2, 1, kernel_size=2, bias=False, stride=2)\n",
    "conv.weight = torch.nn.Parameter(\n",
    "    torch.reshape(\n",
    "        torch.tensor([0, 1, 1, 2], dtype=torch.float32, requires_grad=True),\n",
    "        (1, 2, 2),\n",
    "    )\n",
    ")\n",
    "conv.weight"
   ]
  },
  {
   "cell_type": "code",
   "execution_count": 115,
   "metadata": {},
   "outputs": [
    {
     "data": {
      "text/plain": [
       "tensor([[[1., 2., 3., 4.],\n",
       "         [2., 3., 4., 5.]],\n",
       "\n",
       "        [[0., 1., 2., 3.],\n",
       "         [1., 2., 3., 4.]]])"
      ]
     },
     "execution_count": 115,
     "metadata": {},
     "output_type": "execute_result"
    }
   ],
   "source": [
    "in_sig_15_2"
   ]
  },
  {
   "cell_type": "code",
   "execution_count": 151,
   "metadata": {},
   "outputs": [],
   "source": [
    "def get_ds_and_dl(key=\"rr_intervals\", numeric_derivative=False):\n",
    "    ds_all_train = SubjectsDataset(\n",
    "        subjects_data,\n",
    "        ds_type=\"train\",\n",
    "        step=15,\n",
    "        key=key,\n",
    "        numeric_derivative=numeric_derivative,\n",
    "    )\n",
    "    ds_all_test = SubjectsDataset(\n",
    "        subjects_data,\n",
    "        ds_type=\"test\",\n",
    "        step=15,\n",
    "        key=key,\n",
    "        numeric_derivative=numeric_derivative,\n",
    "    )\n",
    "    return {\n",
    "        \"ds\": {\n",
    "            \"train\": ds_all_train,\n",
    "            \"test\": ds_all_test,\n",
    "        },\n",
    "        \"dl\": {\n",
    "            \"train\": DataLoader(\n",
    "                ds_all_train,\n",
    "                batch_size=8,\n",
    "                shuffle=True,\n",
    "                num_workers=1,\n",
    "                pin_memory=False,\n",
    "                drop_last=True,\n",
    "            ),\n",
    "            \"test\": DataLoader(\n",
    "                ds_all_test,\n",
    "                batch_size=1,\n",
    "                shuffle=True,\n",
    "                num_workers=1,\n",
    "                pin_memory=False,\n",
    "                drop_last=True,\n",
    "            ),\n",
    "        },\n",
    "    }"
   ]
  },
  {
   "cell_type": "code",
   "execution_count": 153,
   "metadata": {},
   "outputs": [],
   "source": [
    "ds_dl = get_ds_and_dl(key=\"rr_intervals\", numeric_derivative=True)"
   ]
  },
  {
   "cell_type": "code",
   "execution_count": 164,
   "metadata": {},
   "outputs": [
    {
     "data": {
      "text/plain": [
       "torch.Size([1, 2, 30])"
      ]
     },
     "execution_count": 164,
     "metadata": {},
     "output_type": "execute_result"
    }
   ],
   "source": [
    "next(iter(ds_dl.get(\"dl\").get(\"test\")))[0].shape"
   ]
  },
  {
   "cell_type": "code",
   "execution_count": 1,
   "metadata": {},
   "outputs": [],
   "source": [
    "from conv_nets.wesad_tries.models import get_model"
   ]
  },
  {
   "cell_type": "code",
   "execution_count": 4,
   "metadata": {},
   "outputs": [],
   "source": [
    "v_45 = get_model(45)\n",
    "v_45_inst = v_45().to(\"cuda\")"
   ]
  },
  {
   "cell_type": "code",
   "execution_count": 11,
   "metadata": {},
   "outputs": [],
   "source": [
    "v_30 = get_model(30)\n",
    "v_30_inst = v_30().to(\"cuda\")"
   ]
  },
  {
   "cell_type": "code",
   "execution_count": 7,
   "metadata": {},
   "outputs": [],
   "source": [
    "import pickle\n",
    "\n",
    "with open(\n",
    "    \"/home/dmo/Documents/human_func_state/human_func_state/models_dumps/wesad/steps/derivative/NetUpDownCoder3_45_ASGD_lr_1e-06/NetUpDownCoder3_45_ASGD_lr_1e-06/NetUpDownCoder3_45_ASGD_lr_1e-06_best.pkl\",\n",
    "    \"rb\",\n",
    ") as f:\n",
    "    v_45_pkl = pickle.load(f)"
   ]
  },
  {
   "cell_type": "code",
   "execution_count": 14,
   "metadata": {},
   "outputs": [
    {
     "ename": "NameError",
     "evalue": "name 'v_30_pkl' is not defined",
     "output_type": "error",
     "traceback": [
      "\u001b[0;31m---------------------------------------------------------------------------\u001b[0m",
      "\u001b[0;31mNameError\u001b[0m                                 Traceback (most recent call last)",
      "Cell \u001b[0;32mIn[14], line 1\u001b[0m\n\u001b[0;32m----> 1\u001b[0m v_30_inst\u001b[38;5;241m.\u001b[39mload_state_dict(\u001b[43mv_30_pkl\u001b[49m\u001b[38;5;241m.\u001b[39mget(\u001b[38;5;124m\"\u001b[39m\u001b[38;5;124mnet_state_dict\u001b[39m\u001b[38;5;124m\"\u001b[39m))\n",
      "\u001b[0;31mNameError\u001b[0m: name 'v_30_pkl' is not defined"
     ]
    }
   ],
   "source": [
    "v_30_inst.load_state_dict(v_30_pkl.get(\"net_state_dict\"))"
   ]
  },
  {
   "cell_type": "code",
   "execution_count": null,
   "metadata": {},
   "outputs": [],
   "source": []
  }
 ],
 "metadata": {
  "kernelspec": {
   "display_name": "Python 3 (ipykernel)",
   "language": "python",
   "name": "python3"
  },
  "language_info": {
   "codemirror_mode": {
    "name": "ipython",
    "version": 3
   },
   "file_extension": ".py",
   "mimetype": "text/x-python",
   "name": "python",
   "nbconvert_exporter": "python",
   "pygments_lexer": "ipython3",
   "version": "3.10.6"
  }
 },
 "nbformat": 4,
 "nbformat_minor": 1
}
