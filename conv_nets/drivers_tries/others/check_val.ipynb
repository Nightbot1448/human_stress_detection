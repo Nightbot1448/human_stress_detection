{
 "cells": [
  {
   "cell_type": "code",
   "execution_count": 1,
   "outputs": [],
   "source": [
    "import torch\n",
    "import pickle\n",
    "\n",
    "import torch.nn as nn\n",
    "\n",
    "from torch.utils.data import DataLoader\n",
    "from ds.drivers.datasets import DriverDataset, DriversDataset, all_data"
   ],
   "metadata": {
    "collapsed": false
   }
  },
  {
   "cell_type": "code",
   "execution_count": 2,
   "outputs": [],
   "source": [
    "device = \"cuda\"\n",
    "ds_step_size = 5\n",
    "test_batch_size = 1"
   ],
   "metadata": {
    "collapsed": false
   }
  },
  {
   "cell_type": "code",
   "execution_count": 3,
   "outputs": [],
   "source": [
    "class ConvX(nn.Module):\n",
    "    def __init__(\n",
    "        self, in_planes, out_planes, kernel=3, stride=1, padding=None\n",
    "    ):\n",
    "        super(ConvX, self).__init__()\n",
    "        padding = kernel // 2 if padding is None else padding\n",
    "        self.conv = nn.Conv1d(\n",
    "            in_planes,\n",
    "            out_planes,\n",
    "            kernel_size=kernel,\n",
    "            stride=stride,\n",
    "            padding=padding,\n",
    "            bias=False,\n",
    "        )\n",
    "        self.bn = nn.BatchNorm1d(out_planes)\n",
    "        self.relu = nn.ReLU(inplace=True)\n",
    "\n",
    "    def forward(self, x):\n",
    "        return self.relu(self.bn(self.conv(x)))"
   ],
   "metadata": {
    "collapsed": false
   }
  },
  {
   "cell_type": "code",
   "execution_count": 4,
   "outputs": [],
   "source": [
    "class Net6Conv2MaxPool(nn.Module):\n",
    "    def __init__(self):\n",
    "        super(Net6Conv2MaxPool, self).__init__()\n",
    "        self.seq = torch.nn.Sequential(\n",
    "            ConvX(1, 1, kernel=2, padding=0),\n",
    "            ConvX(1, 1, kernel=2, padding=0),\n",
    "            nn.MaxPool1d(2),\n",
    "            ConvX(1, 1, kernel=2, padding=0),\n",
    "            ConvX(1, 1, kernel=2, padding=0),\n",
    "            nn.MaxPool1d(2),\n",
    "            ConvX(1, 1, kernel=2, padding=0),\n",
    "            ConvX(1, 1, kernel=2, stride=2),\n",
    "            nn.Conv1d(1, 1, kernel_size=2),\n",
    "        )\n",
    "        self.softmax = nn.Softmax(dim=-1)\n",
    "\n",
    "    def forward(self, x):\n",
    "        return self.softmax(torch.flatten(self.seq(x), 1))"
   ],
   "metadata": {
    "collapsed": false
   }
  },
  {
   "cell_type": "code",
   "execution_count": 5,
   "outputs": [],
   "source": [
    "def get_net(data):\n",
    "    net = Net6Conv2MaxPool()\n",
    "    net.load_state_dict(data.get(\"net_state_dict\"))\n",
    "    net.to(device=device)\n",
    "    return net"
   ],
   "metadata": {
    "collapsed": false
   }
  },
  {
   "cell_type": "code",
   "execution_count": 6,
   "outputs": [],
   "source": [
    "def val(model, dl_test, return_valid_count_only=True):\n",
    "    labels_ = []\n",
    "    outputs_ = []\n",
    "    with torch.no_grad():\n",
    "        sum_ = 0\n",
    "        for i, data in enumerate(dl_test):\n",
    "            inputs, labels = data\n",
    "            labels_.append(labels)\n",
    "            inputs = (\n",
    "                torch.unsqueeze(inputs, 1).to(torch.float32).to(device=device)\n",
    "            )\n",
    "            outputs = model(inputs).cpu()\n",
    "            outputs = outputs.max(1).indices\n",
    "            outputs_.append(outputs)\n",
    "            eq = outputs == labels\n",
    "            sum_ += eq.sum()\n",
    "\n",
    "    return sum_ if return_valid_count_only else (sum_, labels_, outputs_)"
   ],
   "metadata": {
    "collapsed": false
   }
  },
  {
   "cell_type": "code",
   "execution_count": 7,
   "outputs": [],
   "source": [
    "ds_all_test = DriversDataset(\n",
    "    all_data, ds_type=\"test\", data_field=\"working_data_filtered\", step=5\n",
    ")\n",
    "dl_all_test = DataLoader(\n",
    "    ds_all_test,\n",
    "    batch_size=1,\n",
    "    shuffle=True,\n",
    "    num_workers=1,\n",
    "    pin_memory=False,\n",
    "    drop_last=True,\n",
    ")"
   ],
   "metadata": {
    "collapsed": false
   }
  },
  {
   "cell_type": "code",
   "execution_count": 8,
   "outputs": [],
   "source": [
    "drivers_test_datasets = {\n",
    "    driver_id: DriverDataset(\n",
    "        driver_data,\n",
    "        ds_type=\"test\",\n",
    "        data_field=\"working_data_filtered\",\n",
    "        step=ds_step_size,\n",
    "    )\n",
    "    for driver_id, driver_data in all_data.items()\n",
    "}"
   ],
   "metadata": {
    "collapsed": false
   }
  },
  {
   "cell_type": "code",
   "execution_count": 9,
   "outputs": [],
   "source": [
    "nets = [\n",
    "    \"Net6Conv2MaxPool_Adam_lr_0.0001_betas_default_seed_1338\",\n",
    "    \"Net6Conv2MaxPool_Adam_lr_0.001_betas_default_seed_1337\",\n",
    "    \"Net6Conv2MaxPool_Adam_lr_0.0001_betas_0.85_0.995\",\n",
    "    \"Net6Conv2MaxPool_Adam_lr_0.0001_betas_default_seed_1336\",\n",
    "    \"Net6Conv2MaxPool_Adam_lr_0.0005_betas_default\",\n",
    "    \"Net6Conv2MaxPool_Adam_lr_5e-05_betas_default\",\n",
    "    \"Net6Conv2MaxPool_ASGD_lr_0.0001_betas_default\",\n",
    "    \"Net6Conv2MaxPool_RMSprop_lr_0.0001_betas_default\",\n",
    "    \"Net6Conv2MaxPool_SGD_lr_0.0001\",\n",
    "]"
   ],
   "metadata": {
    "collapsed": false
   }
  },
  {
   "cell_type": "code",
   "execution_count": 10,
   "outputs": [
    {
     "name": "stdout",
     "output_type": "stream",
     "text": [
      "Net6Conv2MaxPool_Adam_lr_0.0001_betas_default_seed_1338\n",
      "Computed common rate: tensor(0.8106) ; file rate: tensor(0.8106)\n",
      "Mean:  tensor(0.7822) ; list: [(5, tensor(0.8835)), (6, tensor(0.0217)), (7, tensor(0.3175)), (8, tensor(0.9924)), (9, tensor(0.6341)), (10, tensor(1.)), (11, tensor(1.)), (12, tensor(1.)), (15, tensor(0.9730)), (16, tensor(1.))]\n",
      "-------------------------\n",
      "Net6Conv2MaxPool_Adam_lr_0.001_betas_default_seed_1337\n",
      "Computed common rate: tensor(0.8053) ; file rate: None\n",
      "Mean:  tensor(0.7788) ; list: [(5, tensor(0.8544)), (6, tensor(0.0217)), (7, tensor(0.3175)), (8, tensor(0.9773)), (9, tensor(0.7195)), (10, tensor(1.)), (11, tensor(0.9691)), (12, tensor(1.)), (15, tensor(0.9459)), (16, tensor(0.9825))]\n",
      "-------------------------\n",
      "Net6Conv2MaxPool_Adam_lr_0.0001_betas_0.85_0.995\n",
      "Computed common rate: tensor(0.8074) ; file rate: tensor(0.8074)\n",
      "Mean:  tensor(0.7781) ; list: [(5, tensor(0.9029)), (6, tensor(0.0217)), (7, tensor(0.3175)), (8, tensor(0.9924)), (9, tensor(0.5732)), (10, tensor(1.)), (11, tensor(1.)), (12, tensor(1.)), (15, tensor(0.9730)), (16, tensor(1.))]\n",
      "-------------------------\n",
      "Net6Conv2MaxPool_Adam_lr_0.0001_betas_default_seed_1336\n",
      "Computed common rate: tensor(0.4794) ; file rate: tensor(0.4794)\n",
      "Mean:  tensor(0.4876) ; list: [(5, tensor(0.5534)), (6, tensor(0.7174)), (7, tensor(0.6825)), (8, tensor(0.5606)), (9, tensor(0.4756)), (10, tensor(0.0146)), (11, tensor(0.5670)), (12, tensor(0.6479)), (15, tensor(0.6216)), (16, tensor(0.0351))]\n",
      "-------------------------\n",
      "Net6Conv2MaxPool_Adam_lr_0.0005_betas_default\n",
      "Computed common rate: tensor(0.8032) ; file rate: None\n",
      "Mean:  tensor(0.7749) ; list: [(5, tensor(0.8641)), (6, tensor(0.0217)), (7, tensor(0.3016)), (8, tensor(0.9773)), (9, tensor(0.6220)), (10, tensor(1.)), (11, tensor(0.9897)), (12, tensor(1.)), (15, tensor(0.9730)), (16, tensor(1.))]\n",
      "-------------------------\n",
      "Net6Conv2MaxPool_Adam_lr_5e-05_betas_default\n",
      "Computed common rate: tensor(0.7333) ; file rate: None\n",
      "Mean:  tensor(0.6700) ; list: [(5, tensor(0.5243)), (6, tensor(1.)), (7, tensor(0.3492)), (8, tensor(1.)), (9, tensor(0.)), (10, tensor(0.8540)), (11, tensor(1.)), (12, tensor(1.)), (15, tensor(0.9730)), (16, tensor(0.))]\n",
      "-------------------------\n",
      "Net6Conv2MaxPool_ASGD_lr_0.0001_betas_default\n",
      "Computed common rate: tensor(0.8159) ; file rate: tensor(0.8159)\n",
      "Mean:  tensor(0.7916) ; list: [(5, tensor(0.8155)), (6, tensor(0.)), (7, tensor(0.3175)), (8, tensor(1.)), (9, tensor(0.9756)), (10, tensor(1.)), (11, tensor(0.9588)), (12, tensor(0.9296)), (15, tensor(0.9189)), (16, tensor(1.))]\n",
      "-------------------------\n",
      "Net6Conv2MaxPool_RMSprop_lr_0.0001_betas_default\n",
      "Computed common rate: tensor(0.3704) ; file rate: tensor(0.3704)\n",
      "Mean:  tensor(0.3861) ; list: [(5, tensor(0.4757)), (6, tensor(0.)), (7, tensor(0.3651)), (8, tensor(0.)), (9, tensor(1.)), (10, tensor(0.9927)), (11, tensor(0.)), (12, tensor(0.)), (15, tensor(0.0270)), (16, tensor(1.))]\n",
      "-------------------------\n",
      "Net6Conv2MaxPool_SGD_lr_0.0001\n",
      "Computed common rate: tensor(0.7884) ; file rate: tensor(0.7884)\n",
      "Mean:  tensor(0.7498) ; list: [(5, tensor(0.5243)), (6, tensor(0.9565)), (7, tensor(0.4286)), (8, tensor(1.)), (9, tensor(0.)), (10, tensor(0.9489)), (11, tensor(1.)), (12, tensor(1.)), (15, tensor(0.9730)), (16, tensor(0.6667))]\n",
      "-------------------------\n"
     ]
    }
   ],
   "source": [
    "drivers = [5, 6, 7, 8, 9, 10, 11, 12, 15, 16]\n",
    "for net in nets:\n",
    "    print(net)\n",
    "    with open(f\"models_dumps/{net}.pkl\", \"rb\") as f:\n",
    "        data = pickle.load(f)\n",
    "    accs = []\n",
    "    net = get_net(data)\n",
    "    net.eval()\n",
    "    acc = val(net, dl_all_test)\n",
    "    print(\n",
    "        \"Computed common rate:\",\n",
    "        acc / len(ds_all_test),\n",
    "        \"; file rate:\",\n",
    "        data.get(\"rate\"),\n",
    "    )\n",
    "    for driver_id, ds_test in drivers_test_datasets.items():\n",
    "        dl_test = DataLoader(\n",
    "            ds_test,\n",
    "            batch_size=test_batch_size,\n",
    "            shuffle=True,\n",
    "            num_workers=1,\n",
    "            pin_memory=False,\n",
    "            drop_last=True,\n",
    "        )\n",
    "        net = get_net(data)\n",
    "        net.eval()\n",
    "        acc = val(net, dl_test)\n",
    "        accs.append(acc / len(ds_test))\n",
    "        # print(\"Driver\", driver_id, \"rate: \", accs[-1])\n",
    "    print(\"Mean: \", sum(accs) / len(accs), \"; list:\", list(zip(drivers, accs)))\n",
    "    print(\"-------------------------\")"
   ],
   "metadata": {
    "collapsed": false
   }
  }
 ],
 "metadata": {
  "kernelspec": {
   "display_name": "Python 3",
   "language": "python",
   "name": "python3"
  },
  "language_info": {
   "codemirror_mode": {
    "name": "ipython",
    "version": 2
   },
   "file_extension": ".py",
   "mimetype": "text/x-python",
   "name": "python",
   "nbconvert_exporter": "python",
   "pygments_lexer": "ipython2",
   "version": "2.7.6"
  }
 },
 "nbformat": 4,
 "nbformat_minor": 0
}
